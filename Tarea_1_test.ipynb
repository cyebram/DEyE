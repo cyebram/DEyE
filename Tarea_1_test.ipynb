{
  "nbformat": 4,
  "nbformat_minor": 0,
  "metadata": {
    "colab": {
      "provenance": []
    },
    "kernelspec": {
      "name": "ir",
      "display_name": "R"
    },
    "language_info": {
      "name": "R"
    }
  },
  "cells": [
    {
      "cell_type": "code",
      "source": [
        "library(ggplot2);\n",
        "library(dplyr);"
      ],
      "metadata": {
        "id": "k8DrZlndXMdb"
      },
      "execution_count": 3,
      "outputs": []
    },
    {
      "cell_type": "markdown",
      "source": [
        "## Ejercicio 1\n",
        "\n"
      ],
      "metadata": {
        "id": "xPXN_-VUWj_r"
      }
    },
    {
      "cell_type": "code",
      "execution_count": 8,
      "metadata": {
        "colab": {
          "base_uri": "https://localhost:8080/",
          "height": 568
        },
        "id": "uKZx3bHtWWgC",
        "outputId": "17d07265-5eb6-4f04-89d5-39080e40ca99"
      },
      "outputs": [
        {
          "output_type": "display_data",
          "data": {
            "text/html": [
              "<table class=\"dataframe\">\n",
              "<caption>A tibble: 15 × 6</caption>\n",
              "<thead>\n",
              "\t<tr><th scope=col>Datos</th><th scope=col>Diferencia</th><th scope=col>Dif_abs</th><th scope=col>Rangos</th><th scope=col>Rangos_signo</th><th scope=col>Rangos_positivos</th></tr>\n",
              "\t<tr><th scope=col>&lt;dbl&gt;</th><th scope=col>&lt;dbl&gt;</th><th scope=col>&lt;dbl&gt;</th><th scope=col>&lt;dbl&gt;</th><th scope=col>&lt;dbl&gt;</th><th scope=col>&lt;dbl&gt;</th></tr>\n",
              "</thead>\n",
              "<tbody>\n",
              "\t<tr><td>30.1</td><td>  0.1</td><td> 0.1</td><td> 1</td><td>  1</td><td> 1</td></tr>\n",
              "\t<tr><td>30.2</td><td>  0.2</td><td> 0.2</td><td> 2</td><td>  2</td><td> 2</td></tr>\n",
              "\t<tr><td>30.6</td><td>  0.6</td><td> 0.6</td><td> 3</td><td>  3</td><td> 3</td></tr>\n",
              "\t<tr><td>30.8</td><td>  0.8</td><td> 0.8</td><td> 4</td><td>  4</td><td> 4</td></tr>\n",
              "\t<tr><td>31.9</td><td>  1.9</td><td> 1.9</td><td> 5</td><td>  5</td><td> 5</td></tr>\n",
              "\t<tr><td>27.9</td><td> -2.1</td><td> 2.1</td><td> 6</td><td> -6</td><td> 0</td></tr>\n",
              "\t<tr><td>27.1</td><td> -2.9</td><td> 2.9</td><td> 7</td><td> -7</td><td> 0</td></tr>\n",
              "\t<tr><td>26.7</td><td> -3.3</td><td> 3.3</td><td> 8</td><td> -8</td><td> 0</td></tr>\n",
              "\t<tr><td>25.4</td><td> -4.6</td><td> 4.6</td><td> 9</td><td> -9</td><td> 0</td></tr>\n",
              "\t<tr><td>35.0</td><td>  5.0</td><td> 5.0</td><td>10</td><td> 10</td><td>10</td></tr>\n",
              "\t<tr><td>23.2</td><td> -6.8</td><td> 6.8</td><td>11</td><td>-11</td><td> 0</td></tr>\n",
              "\t<tr><td>15.6</td><td>-14.4</td><td>14.4</td><td>12</td><td>-12</td><td> 0</td></tr>\n",
              "\t<tr><td>12.5</td><td>-17.5</td><td>17.5</td><td>13</td><td>-13</td><td> 0</td></tr>\n",
              "\t<tr><td> 8.8</td><td>-21.2</td><td>21.2</td><td>14</td><td>-14</td><td> 0</td></tr>\n",
              "\t<tr><td>53.2</td><td> 23.2</td><td>23.2</td><td>15</td><td> 15</td><td>15</td></tr>\n",
              "</tbody>\n",
              "</table>\n"
            ],
            "text/markdown": "\nA tibble: 15 × 6\n\n| Datos &lt;dbl&gt; | Diferencia &lt;dbl&gt; | Dif_abs &lt;dbl&gt; | Rangos &lt;dbl&gt; | Rangos_signo &lt;dbl&gt; | Rangos_positivos &lt;dbl&gt; |\n|---|---|---|---|---|---|\n| 30.1 |   0.1 |  0.1 |  1 |   1 |  1 |\n| 30.2 |   0.2 |  0.2 |  2 |   2 |  2 |\n| 30.6 |   0.6 |  0.6 |  3 |   3 |  3 |\n| 30.8 |   0.8 |  0.8 |  4 |   4 |  4 |\n| 31.9 |   1.9 |  1.9 |  5 |   5 |  5 |\n| 27.9 |  -2.1 |  2.1 |  6 |  -6 |  0 |\n| 27.1 |  -2.9 |  2.9 |  7 |  -7 |  0 |\n| 26.7 |  -3.3 |  3.3 |  8 |  -8 |  0 |\n| 25.4 |  -4.6 |  4.6 |  9 |  -9 |  0 |\n| 35.0 |   5.0 |  5.0 | 10 |  10 | 10 |\n| 23.2 |  -6.8 |  6.8 | 11 | -11 |  0 |\n| 15.6 | -14.4 | 14.4 | 12 | -12 |  0 |\n| 12.5 | -17.5 | 17.5 | 13 | -13 |  0 |\n|  8.8 | -21.2 | 21.2 | 14 | -14 |  0 |\n| 53.2 |  23.2 | 23.2 | 15 |  15 | 15 |\n\n",
            "text/latex": "A tibble: 15 × 6\n\\begin{tabular}{llllll}\n Datos & Diferencia & Dif\\_abs & Rangos & Rangos\\_signo & Rangos\\_positivos\\\\\n <dbl> & <dbl> & <dbl> & <dbl> & <dbl> & <dbl>\\\\\n\\hline\n\t 30.1 &   0.1 &  0.1 &  1 &   1 &  1\\\\\n\t 30.2 &   0.2 &  0.2 &  2 &   2 &  2\\\\\n\t 30.6 &   0.6 &  0.6 &  3 &   3 &  3\\\\\n\t 30.8 &   0.8 &  0.8 &  4 &   4 &  4\\\\\n\t 31.9 &   1.9 &  1.9 &  5 &   5 &  5\\\\\n\t 27.9 &  -2.1 &  2.1 &  6 &  -6 &  0\\\\\n\t 27.1 &  -2.9 &  2.9 &  7 &  -7 &  0\\\\\n\t 26.7 &  -3.3 &  3.3 &  8 &  -8 &  0\\\\\n\t 25.4 &  -4.6 &  4.6 &  9 &  -9 &  0\\\\\n\t 35.0 &   5.0 &  5.0 & 10 &  10 & 10\\\\\n\t 23.2 &  -6.8 &  6.8 & 11 & -11 &  0\\\\\n\t 15.6 & -14.4 & 14.4 & 12 & -12 &  0\\\\\n\t 12.5 & -17.5 & 17.5 & 13 & -13 &  0\\\\\n\t  8.8 & -21.2 & 21.2 & 14 & -14 &  0\\\\\n\t 53.2 &  23.2 & 23.2 & 15 &  15 & 15\\\\\n\\end{tabular}\n",
            "text/plain": [
              "   Datos Diferencia Dif_abs Rangos Rangos_signo Rangos_positivos\n",
              "1  30.1    0.1       0.1     1       1           1              \n",
              "2  30.2    0.2       0.2     2       2           2              \n",
              "3  30.6    0.6       0.6     3       3           3              \n",
              "4  30.8    0.8       0.8     4       4           4              \n",
              "5  31.9    1.9       1.9     5       5           5              \n",
              "6  27.9   -2.1       2.1     6      -6           0              \n",
              "7  27.1   -2.9       2.9     7      -7           0              \n",
              "8  26.7   -3.3       3.3     8      -8           0              \n",
              "9  25.4   -4.6       4.6     9      -9           0              \n",
              "10 35.0    5.0       5.0    10      10          10              \n",
              "11 23.2   -6.8       6.8    11     -11           0              \n",
              "12 15.6  -14.4      14.4    12     -12           0              \n",
              "13 12.5  -17.5      17.5    13     -13           0              \n",
              "14  8.8  -21.2      21.2    14     -14           0              \n",
              "15 53.2   23.2      23.2    15      15          15              "
            ]
          },
          "metadata": {}
        }
      ],
      "source": [
        "datos <- c(30.6, 30.1, 15.6, 26.7, 27.1, 25.4, 35.0, 30.8, 31.9, 53.2, 12.5, 23.2, 8.8, 27.9, 30.2)\n",
        "\n",
        "df<-tibble(Datos = datos, Diferencia = Datos-30, Dif_abs = abs(Diferencia))\n",
        "df<- arrange(df, Dif_abs)\n",
        "df<- mutate(df, Rangos = rank(Dif_abs, ties.method = \"average\"), Rangos_signo = Rangos *sign(Diferencia), Rangos_positivos= if_else(Rangos_signo>0, Rangos_signo, 0))\n",
        "df"
      ]
    },
    {
      "cell_type": "code",
      "source": [
        "s_plus<- sum(df$Rangos_positivos)\n",
        "s_plus"
      ],
      "metadata": {
        "colab": {
          "base_uri": "https://localhost:8080/",
          "height": 34
        },
        "id": "tdld0b0Mbezt",
        "outputId": "8a609010-d299-421c-caf2-ff5eb9a056a8"
      },
      "execution_count": 9,
      "outputs": [
        {
          "output_type": "display_data",
          "data": {
            "text/html": [
              "40"
            ],
            "text/markdown": "40",
            "text/latex": "40",
            "text/plain": [
              "[1] 40"
            ]
          },
          "metadata": {}
        }
      ]
    },
    {
      "cell_type": "code",
      "source": [
        "psignrank(s_plus, 15)"
      ],
      "metadata": {
        "colab": {
          "base_uri": "https://localhost:8080/",
          "height": 34
        },
        "id": "0yMXmBN7b_5a",
        "outputId": "796d34b0-3b17-40f4-8721-38e1e0491667"
      },
      "execution_count": 10,
      "outputs": [
        {
          "output_type": "display_data",
          "data": {
            "text/html": [
              "0.138427734375"
            ],
            "text/markdown": "0.138427734375",
            "text/latex": "0.138427734375",
            "text/plain": [
              "[1] 0.1384277"
            ]
          },
          "metadata": {}
        }
      ]
    },
    {
      "cell_type": "code",
      "source": [
        "wilcox.test(df$Datos, alternative = \"less\", mu=30, conf.int = TRUE)"
      ],
      "metadata": {
        "colab": {
          "base_uri": "https://localhost:8080/",
          "height": 208
        },
        "id": "vrK5p2wyceIX",
        "outputId": "21489cf8-be95-4732-aac5-164c04c1bffc"
      },
      "execution_count": 11,
      "outputs": [
        {
          "output_type": "display_data",
          "data": {
            "text/plain": [
              "\n",
              "\tWilcoxon signed rank exact test\n",
              "\n",
              "data:  df$Datos\n",
              "V = 40, p-value = 0.1384\n",
              "alternative hypothesis: true location is less than 30\n",
              "95 percent confidence interval:\n",
              " -Inf 30.7\n",
              "sample estimates:\n",
              "(pseudo)median \n",
              "         27.85 \n"
            ]
          },
          "metadata": {}
        }
      ]
    }
  ]
}