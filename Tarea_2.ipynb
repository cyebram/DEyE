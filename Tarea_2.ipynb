{
  "nbformat": 4,
  "nbformat_minor": 0,
  "metadata": {
    "colab": {
      "provenance": [],
      "authorship_tag": "ABX9TyPba0uT6eOF59TbALYX9VJ6"
    },
    "kernelspec": {
      "name": "ir",
      "display_name": "R"
    },
    "language_info": {
      "name": "R"
    }
  },
  "cells": [
    {
      "cell_type": "markdown",
      "source": [
        "# Tarea 2"
      ],
      "metadata": {
        "id": "IlQLFUbwSNwo"
      }
    },
    {
      "cell_type": "code",
      "source": [
        "library(dplyr)\n",
        "library(ggplot2)"
      ],
      "metadata": {
        "id": "e3wRSLp0SYwv"
      },
      "execution_count": 18,
      "outputs": []
    },
    {
      "cell_type": "markdown",
      "source": [
        "## Ejercicio 1\n",
        "\n",
        "Los siguientes datos muestran el contenido de alcohol (porcentaje) para muestras aleatorias de 7 cervezas alemanas y 8 cervezas estadounidenses. ¿Sugieren los datos que las cervezas alemanas tienen un contenido promedio de alcohol diferente al de las cervezas elaboradas en Estados Unidos? Utilice la prueba de suma de rangos de Wilcoxon con\n",
        ".\n",
        "\n",
        "Alemana: 5.00, 4.90, 3.80, 4.82, 4.80, 5.44, 6.60\n",
        "\n",
        "Estadounidense: 4.85, 5.04, 4.20, 4.10, 4.50, 4.70, 4.30, 5.50"
      ],
      "metadata": {
        "id": "er1oOQKVR-uz"
      }
    },
    {
      "cell_type": "code",
      "source": [
        "datos<- c( 5.00, 4.90, 3.80, 4.82, 4.80, 5.44, 6.60,4.85, 5.04, 4.20, 4.10, 4.50, 4.70, 4.30, 5.50)\n",
        "pais <- c(rep(\"Alemania\", 7), rep(\"EEUU\", 8))\n",
        "df <- tibble(Valores = datos, Pais = pais, Rango = rank(Valores))\n",
        "df$Pais <- factor(df$Pais)\n",
        "df\n",
        "df_Alemania <- filter(df, Pais == \"Alemania\")\n",
        "df_Alemania\n",
        "w<- sum(df_Alemania$Rango)\n",
        "w"
      ],
      "metadata": {
        "colab": {
          "base_uri": "https://localhost:8080/",
          "height": 886
        },
        "id": "zQQUBRWkSoBG",
        "outputId": "48cac32f-2776-473c-88b3-92ccfdeda181"
      },
      "execution_count": 2,
      "outputs": [
        {
          "output_type": "display_data",
          "data": {
            "text/html": [
              "<table class=\"dataframe\">\n",
              "<caption>A tibble: 15 × 3</caption>\n",
              "<thead>\n",
              "\t<tr><th scope=col>Valores</th><th scope=col>Pais</th><th scope=col>Rango</th></tr>\n",
              "\t<tr><th scope=col>&lt;dbl&gt;</th><th scope=col>&lt;fct&gt;</th><th scope=col>&lt;dbl&gt;</th></tr>\n",
              "</thead>\n",
              "<tbody>\n",
              "\t<tr><td>5.00</td><td>Alemania</td><td>11</td></tr>\n",
              "\t<tr><td>4.90</td><td>Alemania</td><td>10</td></tr>\n",
              "\t<tr><td>3.80</td><td>Alemania</td><td> 1</td></tr>\n",
              "\t<tr><td>4.82</td><td>Alemania</td><td> 8</td></tr>\n",
              "\t<tr><td>4.80</td><td>Alemania</td><td> 7</td></tr>\n",
              "\t<tr><td>5.44</td><td>Alemania</td><td>13</td></tr>\n",
              "\t<tr><td>6.60</td><td>Alemania</td><td>15</td></tr>\n",
              "\t<tr><td>4.85</td><td>EEUU    </td><td> 9</td></tr>\n",
              "\t<tr><td>5.04</td><td>EEUU    </td><td>12</td></tr>\n",
              "\t<tr><td>4.20</td><td>EEUU    </td><td> 3</td></tr>\n",
              "\t<tr><td>4.10</td><td>EEUU    </td><td> 2</td></tr>\n",
              "\t<tr><td>4.50</td><td>EEUU    </td><td> 5</td></tr>\n",
              "\t<tr><td>4.70</td><td>EEUU    </td><td> 6</td></tr>\n",
              "\t<tr><td>4.30</td><td>EEUU    </td><td> 4</td></tr>\n",
              "\t<tr><td>5.50</td><td>EEUU    </td><td>14</td></tr>\n",
              "</tbody>\n",
              "</table>\n"
            ],
            "text/markdown": "\nA tibble: 15 × 3\n\n| Valores &lt;dbl&gt; | Pais &lt;fct&gt; | Rango &lt;dbl&gt; |\n|---|---|---|\n| 5.00 | Alemania | 11 |\n| 4.90 | Alemania | 10 |\n| 3.80 | Alemania |  1 |\n| 4.82 | Alemania |  8 |\n| 4.80 | Alemania |  7 |\n| 5.44 | Alemania | 13 |\n| 6.60 | Alemania | 15 |\n| 4.85 | EEUU     |  9 |\n| 5.04 | EEUU     | 12 |\n| 4.20 | EEUU     |  3 |\n| 4.10 | EEUU     |  2 |\n| 4.50 | EEUU     |  5 |\n| 4.70 | EEUU     |  6 |\n| 4.30 | EEUU     |  4 |\n| 5.50 | EEUU     | 14 |\n\n",
            "text/latex": "A tibble: 15 × 3\n\\begin{tabular}{lll}\n Valores & Pais & Rango\\\\\n <dbl> & <fct> & <dbl>\\\\\n\\hline\n\t 5.00 & Alemania & 11\\\\\n\t 4.90 & Alemania & 10\\\\\n\t 3.80 & Alemania &  1\\\\\n\t 4.82 & Alemania &  8\\\\\n\t 4.80 & Alemania &  7\\\\\n\t 5.44 & Alemania & 13\\\\\n\t 6.60 & Alemania & 15\\\\\n\t 4.85 & EEUU     &  9\\\\\n\t 5.04 & EEUU     & 12\\\\\n\t 4.20 & EEUU     &  3\\\\\n\t 4.10 & EEUU     &  2\\\\\n\t 4.50 & EEUU     &  5\\\\\n\t 4.70 & EEUU     &  6\\\\\n\t 4.30 & EEUU     &  4\\\\\n\t 5.50 & EEUU     & 14\\\\\n\\end{tabular}\n",
            "text/plain": [
              "   Valores Pais     Rango\n",
              "1  5.00    Alemania 11   \n",
              "2  4.90    Alemania 10   \n",
              "3  3.80    Alemania  1   \n",
              "4  4.82    Alemania  8   \n",
              "5  4.80    Alemania  7   \n",
              "6  5.44    Alemania 13   \n",
              "7  6.60    Alemania 15   \n",
              "8  4.85    EEUU      9   \n",
              "9  5.04    EEUU     12   \n",
              "10 4.20    EEUU      3   \n",
              "11 4.10    EEUU      2   \n",
              "12 4.50    EEUU      5   \n",
              "13 4.70    EEUU      6   \n",
              "14 4.30    EEUU      4   \n",
              "15 5.50    EEUU     14   "
            ]
          },
          "metadata": {}
        },
        {
          "output_type": "display_data",
          "data": {
            "text/html": [
              "<table class=\"dataframe\">\n",
              "<caption>A tibble: 7 × 3</caption>\n",
              "<thead>\n",
              "\t<tr><th scope=col>Valores</th><th scope=col>Pais</th><th scope=col>Rango</th></tr>\n",
              "\t<tr><th scope=col>&lt;dbl&gt;</th><th scope=col>&lt;fct&gt;</th><th scope=col>&lt;dbl&gt;</th></tr>\n",
              "</thead>\n",
              "<tbody>\n",
              "\t<tr><td>5.00</td><td>Alemania</td><td>11</td></tr>\n",
              "\t<tr><td>4.90</td><td>Alemania</td><td>10</td></tr>\n",
              "\t<tr><td>3.80</td><td>Alemania</td><td> 1</td></tr>\n",
              "\t<tr><td>4.82</td><td>Alemania</td><td> 8</td></tr>\n",
              "\t<tr><td>4.80</td><td>Alemania</td><td> 7</td></tr>\n",
              "\t<tr><td>5.44</td><td>Alemania</td><td>13</td></tr>\n",
              "\t<tr><td>6.60</td><td>Alemania</td><td>15</td></tr>\n",
              "</tbody>\n",
              "</table>\n"
            ],
            "text/markdown": "\nA tibble: 7 × 3\n\n| Valores &lt;dbl&gt; | Pais &lt;fct&gt; | Rango &lt;dbl&gt; |\n|---|---|---|\n| 5.00 | Alemania | 11 |\n| 4.90 | Alemania | 10 |\n| 3.80 | Alemania |  1 |\n| 4.82 | Alemania |  8 |\n| 4.80 | Alemania |  7 |\n| 5.44 | Alemania | 13 |\n| 6.60 | Alemania | 15 |\n\n",
            "text/latex": "A tibble: 7 × 3\n\\begin{tabular}{lll}\n Valores & Pais & Rango\\\\\n <dbl> & <fct> & <dbl>\\\\\n\\hline\n\t 5.00 & Alemania & 11\\\\\n\t 4.90 & Alemania & 10\\\\\n\t 3.80 & Alemania &  1\\\\\n\t 4.82 & Alemania &  8\\\\\n\t 4.80 & Alemania &  7\\\\\n\t 5.44 & Alemania & 13\\\\\n\t 6.60 & Alemania & 15\\\\\n\\end{tabular}\n",
            "text/plain": [
              "  Valores Pais     Rango\n",
              "1 5.00    Alemania 11   \n",
              "2 4.90    Alemania 10   \n",
              "3 3.80    Alemania  1   \n",
              "4 4.82    Alemania  8   \n",
              "5 4.80    Alemania  7   \n",
              "6 5.44    Alemania 13   \n",
              "7 6.60    Alemania 15   "
            ]
          },
          "metadata": {}
        },
        {
          "output_type": "display_data",
          "data": {
            "text/html": [
              "65"
            ],
            "text/markdown": "65",
            "text/latex": "65",
            "text/plain": [
              "[1] 65"
            ]
          },
          "metadata": {}
        }
      ]
    },
    {
      "cell_type": "code",
      "source": [
        "# W= 65, luego el valor de la estadística U = W-m(m+1)/2 =65-28\n",
        "65-28"
      ],
      "metadata": {
        "id": "xKlo66jybWb_",
        "outputId": "c12814cc-ce89-47c4-ebde-cfd6c0528d40",
        "colab": {
          "base_uri": "https://localhost:8080/",
          "height": 34
        }
      },
      "execution_count": 3,
      "outputs": [
        {
          "output_type": "display_data",
          "data": {
            "text/html": [
              "37"
            ],
            "text/markdown": "37",
            "text/latex": "37",
            "text/plain": [
              "[1] 37"
            ]
          },
          "metadata": {}
        }
      ]
    },
    {
      "cell_type": "code",
      "source": [
        "p_value <- pwilcox(36, 7, 8, lower.tail = FALSE)\n",
        "2*p_value"
      ],
      "metadata": {
        "colab": {
          "base_uri": "https://localhost:8080/",
          "height": 34
        },
        "id": "pio34hd_U0aK",
        "outputId": "3ea63fbc-37a8-4d3f-d317-880f83c8dc8b"
      },
      "execution_count": 4,
      "outputs": [
        {
          "output_type": "display_data",
          "data": {
            "text/html": [
              "0.335664335664336"
            ],
            "text/markdown": "0.335664335664336",
            "text/latex": "0.335664335664336",
            "text/plain": [
              "[1] 0.3356643"
            ]
          },
          "metadata": {}
        }
      ]
    },
    {
      "cell_type": "code",
      "source": [
        "Alemania<- datos[1:7]\n",
        "EEUU<- datos[8:15]\n",
        "pares <- expand.grid(i = 1:length(Alemania), j=1:length(EEUU))\n",
        "pares$d_ij<- Alemania[pares$i]-EEUU[pares$j]\n",
        "pares_filtro<- filter(pares, d_ij>0)\n",
        "pares_filtro"
      ],
      "metadata": {
        "colab": {
          "base_uri": "https://localhost:8080/",
          "height": 1000
        },
        "id": "X7z0j2caVRzW",
        "outputId": "1568659c-8c71-40a4-ae20-7309d827d1a7"
      },
      "execution_count": 5,
      "outputs": [
        {
          "output_type": "display_data",
          "data": {
            "text/html": [
              "<table class=\"dataframe\">\n",
              "<caption>A data.frame: 37 × 3</caption>\n",
              "<thead>\n",
              "\t<tr><th scope=col>i</th><th scope=col>j</th><th scope=col>d_ij</th></tr>\n",
              "\t<tr><th scope=col>&lt;int&gt;</th><th scope=col>&lt;int&gt;</th><th scope=col>&lt;dbl&gt;</th></tr>\n",
              "</thead>\n",
              "<tbody>\n",
              "\t<tr><td>1</td><td>1</td><td>0.15</td></tr>\n",
              "\t<tr><td>2</td><td>1</td><td>0.05</td></tr>\n",
              "\t<tr><td>6</td><td>1</td><td>0.59</td></tr>\n",
              "\t<tr><td>7</td><td>1</td><td>1.75</td></tr>\n",
              "\t<tr><td>6</td><td>2</td><td>0.40</td></tr>\n",
              "\t<tr><td>7</td><td>2</td><td>1.56</td></tr>\n",
              "\t<tr><td>1</td><td>3</td><td>0.80</td></tr>\n",
              "\t<tr><td>2</td><td>3</td><td>0.70</td></tr>\n",
              "\t<tr><td>4</td><td>3</td><td>0.62</td></tr>\n",
              "\t<tr><td>5</td><td>3</td><td>0.60</td></tr>\n",
              "\t<tr><td>6</td><td>3</td><td>1.24</td></tr>\n",
              "\t<tr><td>7</td><td>3</td><td>2.40</td></tr>\n",
              "\t<tr><td>1</td><td>4</td><td>0.90</td></tr>\n",
              "\t<tr><td>2</td><td>4</td><td>0.80</td></tr>\n",
              "\t<tr><td>4</td><td>4</td><td>0.72</td></tr>\n",
              "\t<tr><td>5</td><td>4</td><td>0.70</td></tr>\n",
              "\t<tr><td>6</td><td>4</td><td>1.34</td></tr>\n",
              "\t<tr><td>7</td><td>4</td><td>2.50</td></tr>\n",
              "\t<tr><td>1</td><td>5</td><td>0.50</td></tr>\n",
              "\t<tr><td>2</td><td>5</td><td>0.40</td></tr>\n",
              "\t<tr><td>4</td><td>5</td><td>0.32</td></tr>\n",
              "\t<tr><td>5</td><td>5</td><td>0.30</td></tr>\n",
              "\t<tr><td>6</td><td>5</td><td>0.94</td></tr>\n",
              "\t<tr><td>7</td><td>5</td><td>2.10</td></tr>\n",
              "\t<tr><td>1</td><td>6</td><td>0.30</td></tr>\n",
              "\t<tr><td>2</td><td>6</td><td>0.20</td></tr>\n",
              "\t<tr><td>4</td><td>6</td><td>0.12</td></tr>\n",
              "\t<tr><td>5</td><td>6</td><td>0.10</td></tr>\n",
              "\t<tr><td>6</td><td>6</td><td>0.74</td></tr>\n",
              "\t<tr><td>7</td><td>6</td><td>1.90</td></tr>\n",
              "\t<tr><td>1</td><td>7</td><td>0.70</td></tr>\n",
              "\t<tr><td>2</td><td>7</td><td>0.60</td></tr>\n",
              "\t<tr><td>4</td><td>7</td><td>0.52</td></tr>\n",
              "\t<tr><td>5</td><td>7</td><td>0.50</td></tr>\n",
              "\t<tr><td>6</td><td>7</td><td>1.14</td></tr>\n",
              "\t<tr><td>7</td><td>7</td><td>2.30</td></tr>\n",
              "\t<tr><td>7</td><td>8</td><td>1.10</td></tr>\n",
              "</tbody>\n",
              "</table>\n"
            ],
            "text/markdown": "\nA data.frame: 37 × 3\n\n| i &lt;int&gt; | j &lt;int&gt; | d_ij &lt;dbl&gt; |\n|---|---|---|\n| 1 | 1 | 0.15 |\n| 2 | 1 | 0.05 |\n| 6 | 1 | 0.59 |\n| 7 | 1 | 1.75 |\n| 6 | 2 | 0.40 |\n| 7 | 2 | 1.56 |\n| 1 | 3 | 0.80 |\n| 2 | 3 | 0.70 |\n| 4 | 3 | 0.62 |\n| 5 | 3 | 0.60 |\n| 6 | 3 | 1.24 |\n| 7 | 3 | 2.40 |\n| 1 | 4 | 0.90 |\n| 2 | 4 | 0.80 |\n| 4 | 4 | 0.72 |\n| 5 | 4 | 0.70 |\n| 6 | 4 | 1.34 |\n| 7 | 4 | 2.50 |\n| 1 | 5 | 0.50 |\n| 2 | 5 | 0.40 |\n| 4 | 5 | 0.32 |\n| 5 | 5 | 0.30 |\n| 6 | 5 | 0.94 |\n| 7 | 5 | 2.10 |\n| 1 | 6 | 0.30 |\n| 2 | 6 | 0.20 |\n| 4 | 6 | 0.12 |\n| 5 | 6 | 0.10 |\n| 6 | 6 | 0.74 |\n| 7 | 6 | 1.90 |\n| 1 | 7 | 0.70 |\n| 2 | 7 | 0.60 |\n| 4 | 7 | 0.52 |\n| 5 | 7 | 0.50 |\n| 6 | 7 | 1.14 |\n| 7 | 7 | 2.30 |\n| 7 | 8 | 1.10 |\n\n",
            "text/latex": "A data.frame: 37 × 3\n\\begin{tabular}{lll}\n i & j & d\\_ij\\\\\n <int> & <int> & <dbl>\\\\\n\\hline\n\t 1 & 1 & 0.15\\\\\n\t 2 & 1 & 0.05\\\\\n\t 6 & 1 & 0.59\\\\\n\t 7 & 1 & 1.75\\\\\n\t 6 & 2 & 0.40\\\\\n\t 7 & 2 & 1.56\\\\\n\t 1 & 3 & 0.80\\\\\n\t 2 & 3 & 0.70\\\\\n\t 4 & 3 & 0.62\\\\\n\t 5 & 3 & 0.60\\\\\n\t 6 & 3 & 1.24\\\\\n\t 7 & 3 & 2.40\\\\\n\t 1 & 4 & 0.90\\\\\n\t 2 & 4 & 0.80\\\\\n\t 4 & 4 & 0.72\\\\\n\t 5 & 4 & 0.70\\\\\n\t 6 & 4 & 1.34\\\\\n\t 7 & 4 & 2.50\\\\\n\t 1 & 5 & 0.50\\\\\n\t 2 & 5 & 0.40\\\\\n\t 4 & 5 & 0.32\\\\\n\t 5 & 5 & 0.30\\\\\n\t 6 & 5 & 0.94\\\\\n\t 7 & 5 & 2.10\\\\\n\t 1 & 6 & 0.30\\\\\n\t 2 & 6 & 0.20\\\\\n\t 4 & 6 & 0.12\\\\\n\t 5 & 6 & 0.10\\\\\n\t 6 & 6 & 0.74\\\\\n\t 7 & 6 & 1.90\\\\\n\t 1 & 7 & 0.70\\\\\n\t 2 & 7 & 0.60\\\\\n\t 4 & 7 & 0.52\\\\\n\t 5 & 7 & 0.50\\\\\n\t 6 & 7 & 1.14\\\\\n\t 7 & 7 & 2.30\\\\\n\t 7 & 8 & 1.10\\\\\n\\end{tabular}\n",
            "text/plain": [
              "   i j d_ij\n",
              "1  1 1 0.15\n",
              "2  2 1 0.05\n",
              "3  6 1 0.59\n",
              "4  7 1 1.75\n",
              "5  6 2 0.40\n",
              "6  7 2 1.56\n",
              "7  1 3 0.80\n",
              "8  2 3 0.70\n",
              "9  4 3 0.62\n",
              "10 5 3 0.60\n",
              "11 6 3 1.24\n",
              "12 7 3 2.40\n",
              "13 1 4 0.90\n",
              "14 2 4 0.80\n",
              "15 4 4 0.72\n",
              "16 5 4 0.70\n",
              "17 6 4 1.34\n",
              "18 7 4 2.50\n",
              "19 1 5 0.50\n",
              "20 2 5 0.40\n",
              "21 4 5 0.32\n",
              "22 5 5 0.30\n",
              "23 6 5 0.94\n",
              "24 7 5 2.10\n",
              "25 1 6 0.30\n",
              "26 2 6 0.20\n",
              "27 4 6 0.12\n",
              "28 5 6 0.10\n",
              "29 6 6 0.74\n",
              "30 7 6 1.90\n",
              "31 1 7 0.70\n",
              "32 2 7 0.60\n",
              "33 4 7 0.52\n",
              "34 5 7 0.50\n",
              "35 6 7 1.14\n",
              "36 7 7 2.30\n",
              "37 7 8 1.10"
            ]
          },
          "metadata": {}
        }
      ]
    },
    {
      "cell_type": "code",
      "source": [
        "m <- 7\n",
        "n <- 8\n",
        "w_min <- m * (m+1)/2\n",
        "w_max <- m*n+ m * (m+1)/2\n",
        "\n",
        "df_graf <- tibble(w_vals = w_min:w_max,\n",
        "             u_vals = w_vals - w_min,\n",
        "             probs_w = dwilcox(u_vals, m, n))\n",
        "\n",
        "\n",
        "\n",
        "\n",
        "\n",
        "\n",
        "\n",
        "ggplot(df_graf) +\n",
        "  geom_segment(aes(x = u_vals, xend = u_vals, y = 0, yend = probs_w),\n",
        "               linewidth = 1.2) +\n",
        "  geom_point(aes(x = u_vals, y = probs_w), size = 2.5) +\n",
        "  labs(x = \"W\",\n",
        "       y = \"Probabilidad\") +\n",
        "  #scale_x_continuous(breaks = seq(w_min, w_max, by=5))+\n",
        "  theme_minimal(base_size = 14)\n",
        "\n"
      ],
      "metadata": {
        "colab": {
          "base_uri": "https://localhost:8080/",
          "height": 437
        },
        "id": "iU_q14WbYspm",
        "outputId": "6fe6a539-c7ac-4afa-b72e-a5ed947c65e2"
      },
      "execution_count": 6,
      "outputs": [
        {
          "output_type": "display_data",
          "data": {
            "text/plain": [
              "plot without title"
            ],
            "image/png": "[encoded data removed]"
          },
          "metadata": {
            "image/png": {
              "width": 420,
              "height": 420
            }
          }
        }
      ]
    },
    {
      "cell_type": "code",
      "source": [
        "wilcox.test(Valores ~ Pais, data = df, alternative = \"two.sided\")"
      ],
      "metadata": {
        "colab": {
          "base_uri": "https://localhost:8080/",
          "height": 121
        },
        "id": "3xi-55xqaRsw",
        "outputId": "bac7b67d-5fef-4cd0-9461-c5df42e376ee"
      },
      "execution_count": 7,
      "outputs": [
        {
          "output_type": "display_data",
          "data": {
            "text/plain": [
              "\n",
              "\tWilcoxon rank sum exact test\n",
              "\n",
              "data:  Valores by Pais\n",
              "W = 37, p-value = 0.3357\n",
              "alternative hypothesis: true location shift is not equal to 0\n"
            ]
          },
          "metadata": {}
        }
      ]
    },
    {
      "cell_type": "markdown",
      "source": [
        "## Ejercicio 3\n",
        "\n",
        "¿Pueden los videojuegos mejorar el equilibrio en personas mayores? El artículo “The Effect of Virtual Reality Gaming on Dynamic Balance in Older Adults” (Age and Ageing, 2012: 549–552) reportó un experimento en el que 34 adultos mayores fueron asignados aleatoriamente a uno de dos grupos: (1) 16 que participaron en un régimen de ejercicios de seis semanas usando el Wii Fit Balance Board (WBB), y (2) 17 que no modificaron su actividad física diaria durante ese periodo. Los datos siguientes muestran la mejora en el tiempo de la prueba “8-foot-up-and-go” (en segundos), una prueba estándar de agilidad y equilibrio.\n",
        "\n",
        "WBB: -1.9, -0.8, 0.1, 0.5, 0.6, 0.7, 0.8, 0.9, 1.1, 1.2, 1.5, 2.0, 2.1, 2.7, 3.2, 3.7\n",
        "\n",
        "Control: -2.6, -2.2, -2.1, -1.4, -1.1, -0.7, -0.6, -0.3, -0.1, 0.0, 0.3, 0.4, 1.0, 1.3, 2.3, 2.4, 4.5\n",
        "\n",
        "Prueba si la mejora promedio verdadera es mayor usando el WBB que en condiciones de control, al nivel de significancia de 0.05."
      ],
      "metadata": {
        "id": "cIB08iwfcV1u"
      }
    },
    {
      "cell_type": "code",
      "source": [
        "datos<- c(-1.9, -0.8, 0.1, 0.5, 0.6, 0.7, 0.8, 0.9, 1.1, 1.2, 1.5, 2.0, 2.1, 2.7, 3.2, 3.7, -2.6, -2.2, -2.1, -1.4, -1.1, -0.7, -0.6, -0.3, -0.1, 0.0, 0.3, 0.4, 1.0, 1.3, 2.3, 2.4, 4.5)\n",
        "Tratamiento <- c(rep(\"WBB\", 16), rep(\"Control\", 17))\n",
        "df <- tibble(Valores = datos, Treatment = Tratamiento , Rango = rank(Valores))\n",
        "df$Treatment <- factor(df$Treatment, levels = c(\"WBB\", \"Control\"))\n",
        "df\n",
        "df_filtro <- filter(df, Tratamiento == \"WBB\")\n",
        "df_filtro\n",
        "w<- sum(df_filtro$Rango)\n",
        "w\n",
        "\n",
        "\n",
        "\n",
        "ggplot(df)+\n",
        "  geom_boxplot(aes(Treatment, Valores))+\n",
        "  theme_bw()"
      ],
      "metadata": {
        "colab": {
          "base_uri": "https://localhost:8080/",
          "height": 1000
        },
        "id": "l5Yp1nRQcfhE",
        "outputId": "241a5c0d-f77c-4dee-b32d-7d090b521d38"
      },
      "execution_count": 8,
      "outputs": [
        {
          "output_type": "display_data",
          "data": {
            "text/html": [
              "<table class=\"dataframe\">\n",
              "<caption>A tibble: 33 × 3</caption>\n",
              "<thead>\n",
              "\t<tr><th scope=col>Valores</th><th scope=col>Treatment</th><th scope=col>Rango</th></tr>\n",
              "\t<tr><th scope=col>&lt;dbl&gt;</th><th scope=col>&lt;fct&gt;</th><th scope=col>&lt;dbl&gt;</th></tr>\n",
              "</thead>\n",
              "<tbody>\n",
              "\t<tr><td>-1.9</td><td>WBB    </td><td> 4</td></tr>\n",
              "\t<tr><td>-0.8</td><td>WBB    </td><td> 7</td></tr>\n",
              "\t<tr><td> 0.1</td><td>WBB    </td><td>13</td></tr>\n",
              "\t<tr><td> 0.5</td><td>WBB    </td><td>16</td></tr>\n",
              "\t<tr><td> 0.6</td><td>WBB    </td><td>17</td></tr>\n",
              "\t<tr><td> 0.7</td><td>WBB    </td><td>18</td></tr>\n",
              "\t<tr><td> 0.8</td><td>WBB    </td><td>19</td></tr>\n",
              "\t<tr><td> 0.9</td><td>WBB    </td><td>20</td></tr>\n",
              "\t<tr><td> 1.1</td><td>WBB    </td><td>22</td></tr>\n",
              "\t<tr><td> 1.2</td><td>WBB    </td><td>23</td></tr>\n",
              "\t<tr><td> 1.5</td><td>WBB    </td><td>25</td></tr>\n",
              "\t<tr><td> 2.0</td><td>WBB    </td><td>26</td></tr>\n",
              "\t<tr><td> 2.1</td><td>WBB    </td><td>27</td></tr>\n",
              "\t<tr><td> 2.7</td><td>WBB    </td><td>30</td></tr>\n",
              "\t<tr><td> 3.2</td><td>WBB    </td><td>31</td></tr>\n",
              "\t<tr><td> 3.7</td><td>WBB    </td><td>32</td></tr>\n",
              "\t<tr><td>-2.6</td><td>Control</td><td> 1</td></tr>\n",
              "\t<tr><td>-2.2</td><td>Control</td><td> 2</td></tr>\n",
              "\t<tr><td>-2.1</td><td>Control</td><td> 3</td></tr>\n",
              "\t<tr><td>-1.4</td><td>Control</td><td> 5</td></tr>\n",
              "\t<tr><td>-1.1</td><td>Control</td><td> 6</td></tr>\n",
              "\t<tr><td>-0.7</td><td>Control</td><td> 8</td></tr>\n",
              "\t<tr><td>-0.6</td><td>Control</td><td> 9</td></tr>\n",
              "\t<tr><td>-0.3</td><td>Control</td><td>10</td></tr>\n",
              "\t<tr><td>-0.1</td><td>Control</td><td>11</td></tr>\n",
              "\t<tr><td> 0.0</td><td>Control</td><td>12</td></tr>\n",
              "\t<tr><td> 0.3</td><td>Control</td><td>14</td></tr>\n",
              "\t<tr><td> 0.4</td><td>Control</td><td>15</td></tr>\n",
              "\t<tr><td> 1.0</td><td>Control</td><td>21</td></tr>\n",
              "\t<tr><td> 1.3</td><td>Control</td><td>24</td></tr>\n",
              "\t<tr><td> 2.3</td><td>Control</td><td>28</td></tr>\n",
              "\t<tr><td> 2.4</td><td>Control</td><td>29</td></tr>\n",
              "\t<tr><td> 4.5</td><td>Control</td><td>33</td></tr>\n",
              "</tbody>\n",
              "</table>\n"
            ],
            "text/markdown": "\nA tibble: 33 × 3\n\n| Valores &lt;dbl&gt; | Treatment &lt;fct&gt; | Rango &lt;dbl&gt; |\n|---|---|---|\n| -1.9 | WBB     |  4 |\n| -0.8 | WBB     |  7 |\n|  0.1 | WBB     | 13 |\n|  0.5 | WBB     | 16 |\n|  0.6 | WBB     | 17 |\n|  0.7 | WBB     | 18 |\n|  0.8 | WBB     | 19 |\n|  0.9 | WBB     | 20 |\n|  1.1 | WBB     | 22 |\n|  1.2 | WBB     | 23 |\n|  1.5 | WBB     | 25 |\n|  2.0 | WBB     | 26 |\n|  2.1 | WBB     | 27 |\n|  2.7 | WBB     | 30 |\n|  3.2 | WBB     | 31 |\n|  3.7 | WBB     | 32 |\n| -2.6 | Control |  1 |\n| -2.2 | Control |  2 |\n| -2.1 | Control |  3 |\n| -1.4 | Control |  5 |\n| -1.1 | Control |  6 |\n| -0.7 | Control |  8 |\n| -0.6 | Control |  9 |\n| -0.3 | Control | 10 |\n| -0.1 | Control | 11 |\n|  0.0 | Control | 12 |\n|  0.3 | Control | 14 |\n|  0.4 | Control | 15 |\n|  1.0 | Control | 21 |\n|  1.3 | Control | 24 |\n|  2.3 | Control | 28 |\n|  2.4 | Control | 29 |\n|  4.5 | Control | 33 |\n\n",
            "text/latex": "A tibble: 33 × 3\n\\begin{tabular}{lll}\n Valores & Treatment & Rango\\\\\n <dbl> & <fct> & <dbl>\\\\\n\\hline\n\t -1.9 & WBB     &  4\\\\\n\t -0.8 & WBB     &  7\\\\\n\t  0.1 & WBB     & 13\\\\\n\t  0.5 & WBB     & 16\\\\\n\t  0.6 & WBB     & 17\\\\\n\t  0.7 & WBB     & 18\\\\\n\t  0.8 & WBB     & 19\\\\\n\t  0.9 & WBB     & 20\\\\\n\t  1.1 & WBB     & 22\\\\\n\t  1.2 & WBB     & 23\\\\\n\t  1.5 & WBB     & 25\\\\\n\t  2.0 & WBB     & 26\\\\\n\t  2.1 & WBB     & 27\\\\\n\t  2.7 & WBB     & 30\\\\\n\t  3.2 & WBB     & 31\\\\\n\t  3.7 & WBB     & 32\\\\\n\t -2.6 & Control &  1\\\\\n\t -2.2 & Control &  2\\\\\n\t -2.1 & Control &  3\\\\\n\t -1.4 & Control &  5\\\\\n\t -1.1 & Control &  6\\\\\n\t -0.7 & Control &  8\\\\\n\t -0.6 & Control &  9\\\\\n\t -0.3 & Control & 10\\\\\n\t -0.1 & Control & 11\\\\\n\t  0.0 & Control & 12\\\\\n\t  0.3 & Control & 14\\\\\n\t  0.4 & Control & 15\\\\\n\t  1.0 & Control & 21\\\\\n\t  1.3 & Control & 24\\\\\n\t  2.3 & Control & 28\\\\\n\t  2.4 & Control & 29\\\\\n\t  4.5 & Control & 33\\\\\n\\end{tabular}\n",
            "text/plain": [
              "   Valores Treatment Rango\n",
              "1  -1.9    WBB        4   \n",
              "2  -0.8    WBB        7   \n",
              "3   0.1    WBB       13   \n",
              "4   0.5    WBB       16   \n",
              "5   0.6    WBB       17   \n",
              "6   0.7    WBB       18   \n",
              "7   0.8    WBB       19   \n",
              "8   0.9    WBB       20   \n",
              "9   1.1    WBB       22   \n",
              "10  1.2    WBB       23   \n",
              "11  1.5    WBB       25   \n",
              "12  2.0    WBB       26   \n",
              "13  2.1    WBB       27   \n",
              "14  2.7    WBB       30   \n",
              "15  3.2    WBB       31   \n",
              "16  3.7    WBB       32   \n",
              "17 -2.6    Control    1   \n",
              "18 -2.2    Control    2   \n",
              "19 -2.1    Control    3   \n",
              "20 -1.4    Control    5   \n",
              "21 -1.1    Control    6   \n",
              "22 -0.7    Control    8   \n",
              "23 -0.6    Control    9   \n",
              "24 -0.3    Control   10   \n",
              "25 -0.1    Control   11   \n",
              "26  0.0    Control   12   \n",
              "27  0.3    Control   14   \n",
              "28  0.4    Control   15   \n",
              "29  1.0    Control   21   \n",
              "30  1.3    Control   24   \n",
              "31  2.3    Control   28   \n",
              "32  2.4    Control   29   \n",
              "33  4.5    Control   33   "
            ]
          },
          "metadata": {}
        },
        {
          "output_type": "display_data",
          "data": {
            "text/html": [
              "<table class=\"dataframe\">\n",
              "<caption>A tibble: 16 × 3</caption>\n",
              "<thead>\n",
              "\t<tr><th scope=col>Valores</th><th scope=col>Treatment</th><th scope=col>Rango</th></tr>\n",
              "\t<tr><th scope=col>&lt;dbl&gt;</th><th scope=col>&lt;fct&gt;</th><th scope=col>&lt;dbl&gt;</th></tr>\n",
              "</thead>\n",
              "<tbody>\n",
              "\t<tr><td>-1.9</td><td>WBB</td><td> 4</td></tr>\n",
              "\t<tr><td>-0.8</td><td>WBB</td><td> 7</td></tr>\n",
              "\t<tr><td> 0.1</td><td>WBB</td><td>13</td></tr>\n",
              "\t<tr><td> 0.5</td><td>WBB</td><td>16</td></tr>\n",
              "\t<tr><td> 0.6</td><td>WBB</td><td>17</td></tr>\n",
              "\t<tr><td> 0.7</td><td>WBB</td><td>18</td></tr>\n",
              "\t<tr><td> 0.8</td><td>WBB</td><td>19</td></tr>\n",
              "\t<tr><td> 0.9</td><td>WBB</td><td>20</td></tr>\n",
              "\t<tr><td> 1.1</td><td>WBB</td><td>22</td></tr>\n",
              "\t<tr><td> 1.2</td><td>WBB</td><td>23</td></tr>\n",
              "\t<tr><td> 1.5</td><td>WBB</td><td>25</td></tr>\n",
              "\t<tr><td> 2.0</td><td>WBB</td><td>26</td></tr>\n",
              "\t<tr><td> 2.1</td><td>WBB</td><td>27</td></tr>\n",
              "\t<tr><td> 2.7</td><td>WBB</td><td>30</td></tr>\n",
              "\t<tr><td> 3.2</td><td>WBB</td><td>31</td></tr>\n",
              "\t<tr><td> 3.7</td><td>WBB</td><td>32</td></tr>\n",
              "</tbody>\n",
              "</table>\n"
            ],
            "text/markdown": "\nA tibble: 16 × 3\n\n| Valores &lt;dbl&gt; | Treatment &lt;fct&gt; | Rango &lt;dbl&gt; |\n|---|---|---|\n| -1.9 | WBB |  4 |\n| -0.8 | WBB |  7 |\n|  0.1 | WBB | 13 |\n|  0.5 | WBB | 16 |\n|  0.6 | WBB | 17 |\n|  0.7 | WBB | 18 |\n|  0.8 | WBB | 19 |\n|  0.9 | WBB | 20 |\n|  1.1 | WBB | 22 |\n|  1.2 | WBB | 23 |\n|  1.5 | WBB | 25 |\n|  2.0 | WBB | 26 |\n|  2.1 | WBB | 27 |\n|  2.7 | WBB | 30 |\n|  3.2 | WBB | 31 |\n|  3.7 | WBB | 32 |\n\n",
            "text/latex": "A tibble: 16 × 3\n\\begin{tabular}{lll}\n Valores & Treatment & Rango\\\\\n <dbl> & <fct> & <dbl>\\\\\n\\hline\n\t -1.9 & WBB &  4\\\\\n\t -0.8 & WBB &  7\\\\\n\t  0.1 & WBB & 13\\\\\n\t  0.5 & WBB & 16\\\\\n\t  0.6 & WBB & 17\\\\\n\t  0.7 & WBB & 18\\\\\n\t  0.8 & WBB & 19\\\\\n\t  0.9 & WBB & 20\\\\\n\t  1.1 & WBB & 22\\\\\n\t  1.2 & WBB & 23\\\\\n\t  1.5 & WBB & 25\\\\\n\t  2.0 & WBB & 26\\\\\n\t  2.1 & WBB & 27\\\\\n\t  2.7 & WBB & 30\\\\\n\t  3.2 & WBB & 31\\\\\n\t  3.7 & WBB & 32\\\\\n\\end{tabular}\n",
            "text/plain": [
              "   Valores Treatment Rango\n",
              "1  -1.9    WBB        4   \n",
              "2  -0.8    WBB        7   \n",
              "3   0.1    WBB       13   \n",
              "4   0.5    WBB       16   \n",
              "5   0.6    WBB       17   \n",
              "6   0.7    WBB       18   \n",
              "7   0.8    WBB       19   \n",
              "8   0.9    WBB       20   \n",
              "9   1.1    WBB       22   \n",
              "10  1.2    WBB       23   \n",
              "11  1.5    WBB       25   \n",
              "12  2.0    WBB       26   \n",
              "13  2.1    WBB       27   \n",
              "14  2.7    WBB       30   \n",
              "15  3.2    WBB       31   \n",
              "16  3.7    WBB       32   "
            ]
          },
          "metadata": {}
        },
        {
          "output_type": "display_data",
          "data": {
            "text/html": [
              "330"
            ],
            "text/markdown": "330",
            "text/latex": "330",
            "text/plain": [
              "[1] 330"
            ]
          },
          "metadata": {}
        },
        {
          "output_type": "display_data",
          "data": {
            "text/plain": [
              "plot without title"
            ],
            "image/png": "[encoded data removed]"
          },
          "metadata": {
            "image/png": {
              "width": 420,
              "height": 420
            }
          }
        }
      ]
    },
    {
      "cell_type": "code",
      "source": [
        "m<- 16\n",
        "u<-w- m*(m+1)/2\n",
        "u"
      ],
      "metadata": {
        "colab": {
          "base_uri": "https://localhost:8080/",
          "height": 34
        },
        "id": "iOsxU-3MdqBl",
        "outputId": "a76f3e18-284e-4bbd-94cc-281db6004b97"
      },
      "execution_count": 9,
      "outputs": [
        {
          "output_type": "display_data",
          "data": {
            "text/html": [
              "194"
            ],
            "text/markdown": "194",
            "text/latex": "194",
            "text/plain": [
              "[1] 194"
            ]
          },
          "metadata": {}
        }
      ]
    },
    {
      "cell_type": "code",
      "source": [
        "p_value<- pwilcox(193, 16, 17, lower.tail = FALSE)\n",
        "p_value"
      ],
      "metadata": {
        "colab": {
          "base_uri": "https://localhost:8080/",
          "height": 34
        },
        "id": "2oMOdy2id4Ap",
        "outputId": "e9686c68-d4b8-4087-cb67-784c952e3c10"
      },
      "execution_count": 10,
      "outputs": [
        {
          "output_type": "display_data",
          "data": {
            "text/html": [
              "0.0185516629279468"
            ],
            "text/markdown": "0.0185516629279468",
            "text/latex": "0.0185516629279468",
            "text/plain": [
              "[1] 0.01855166"
            ]
          },
          "metadata": {}
        }
      ]
    },
    {
      "cell_type": "code",
      "source": [
        "wilcox.test(Valores ~ Treatment, data = df, alternative = \"greater\")"
      ],
      "metadata": {
        "colab": {
          "base_uri": "https://localhost:8080/",
          "height": 121
        },
        "id": "KK9WQVrqeQAk",
        "outputId": "d0727eb8-51b4-44d9-f9a2-1140824d2b1e"
      },
      "execution_count": 11,
      "outputs": [
        {
          "output_type": "display_data",
          "data": {
            "text/plain": [
              "\n",
              "\tWilcoxon rank sum exact test\n",
              "\n",
              "data:  Valores by Treatment\n",
              "W = 194, p-value = 0.01855\n",
              "alternative hypothesis: true location shift is greater than 0\n"
            ]
          },
          "metadata": {}
        }
      ]
    },
    {
      "cell_type": "markdown",
      "source": [
        "## Ejericicio 5\n",
        "\n",
        "Los siguientes datos brindan información sobre la longitud de las hojas de plantas de la misma especie en cada uno de cuatro lugares pantanosos no urbanizados. En cada uno de éstos, se seleccionaron aleatoriamente seis plantas. Se seleccionaron al azar diez hojas de cada una de las plantas y la media de las diez mediciones (en centímetros) se registró para cada planta de cada uno de los lugares. Use la prueba de Kruskal-Wallis para determinar si hay suficiente evidencia para afirmar que la distribución de las longitudes medias de las hojas difiere en localizaciones para al menos dos de los sitios.\n",
        "\n",
        "Datos de longitud media de hoja (cm) por localización:\n",
        "\n",
        "* Localización 1: 5.7, 6.3, 6.1, 6.0, 5.8, 6.2\n",
        "\n",
        "* Localización 2: 6.2, 5.3, 5.7, 6.0, 5.2, 5.5\n",
        "\n",
        "* Localización 3: 5.4, 5.0, 6.0, 5.6, 4.0, 5.2\n",
        "\n",
        "* Localización 4: 3.7, 3.2, 3.9, 4.0, 3.5, 3.6"
      ],
      "metadata": {
        "id": "DvjeLzRDE7jw"
      }
    },
    {
      "cell_type": "code",
      "source": [
        "datos <- c( 5.7, 6.3, 6.1, 6.0, 5.8, 6.2, 6.2, 5.3, 5.7, 6.0, 5.2, 5.5, 5.4, 5.0, 6.0, 5.6, 4.0, 5.2, 3.7, 3.2, 3.9, 4.0, 3.5, 3.6)\n",
        "localizacion <- c(rep(\"Loc_1\", 6),rep(\"Loc_2\", 6), rep(\"Loc_3\", 6),rep(\"Loc_4\", 6))\n",
        "\n",
        "df<- tibble(valores = datos, Loc = localizacion, Rango= rank(valores))\n",
        "df"
      ],
      "metadata": {
        "id": "aCgXUMKxFZTq",
        "outputId": "0f0fdaed-73f6-4f6b-941b-6132a5d86e3e",
        "colab": {
          "base_uri": "https://localhost:8080/",
          "height": 850
        }
      },
      "execution_count": 12,
      "outputs": [
        {
          "output_type": "display_data",
          "data": {
            "text/html": [
              "<table class=\"dataframe\">\n",
              "<caption>A tibble: 24 × 3</caption>\n",
              "<thead>\n",
              "\t<tr><th scope=col>valores</th><th scope=col>Loc</th><th scope=col>Rango</th></tr>\n",
              "\t<tr><th scope=col>&lt;dbl&gt;</th><th scope=col>&lt;chr&gt;</th><th scope=col>&lt;dbl&gt;</th></tr>\n",
              "</thead>\n",
              "<tbody>\n",
              "\t<tr><td>5.7</td><td>Loc_1</td><td>15.5</td></tr>\n",
              "\t<tr><td>6.3</td><td>Loc_1</td><td>24.0</td></tr>\n",
              "\t<tr><td>6.1</td><td>Loc_1</td><td>21.0</td></tr>\n",
              "\t<tr><td>6.0</td><td>Loc_1</td><td>19.0</td></tr>\n",
              "\t<tr><td>5.8</td><td>Loc_1</td><td>17.0</td></tr>\n",
              "\t<tr><td>6.2</td><td>Loc_1</td><td>22.5</td></tr>\n",
              "\t<tr><td>6.2</td><td>Loc_2</td><td>22.5</td></tr>\n",
              "\t<tr><td>5.3</td><td>Loc_2</td><td>11.0</td></tr>\n",
              "\t<tr><td>5.7</td><td>Loc_2</td><td>15.5</td></tr>\n",
              "\t<tr><td>6.0</td><td>Loc_2</td><td>19.0</td></tr>\n",
              "\t<tr><td>5.2</td><td>Loc_2</td><td> 9.5</td></tr>\n",
              "\t<tr><td>5.5</td><td>Loc_2</td><td>13.0</td></tr>\n",
              "\t<tr><td>5.4</td><td>Loc_3</td><td>12.0</td></tr>\n",
              "\t<tr><td>5.0</td><td>Loc_3</td><td> 8.0</td></tr>\n",
              "\t<tr><td>6.0</td><td>Loc_3</td><td>19.0</td></tr>\n",
              "\t<tr><td>5.6</td><td>Loc_3</td><td>14.0</td></tr>\n",
              "\t<tr><td>4.0</td><td>Loc_3</td><td> 6.5</td></tr>\n",
              "\t<tr><td>5.2</td><td>Loc_3</td><td> 9.5</td></tr>\n",
              "\t<tr><td>3.7</td><td>Loc_4</td><td> 4.0</td></tr>\n",
              "\t<tr><td>3.2</td><td>Loc_4</td><td> 1.0</td></tr>\n",
              "\t<tr><td>3.9</td><td>Loc_4</td><td> 5.0</td></tr>\n",
              "\t<tr><td>4.0</td><td>Loc_4</td><td> 6.5</td></tr>\n",
              "\t<tr><td>3.5</td><td>Loc_4</td><td> 2.0</td></tr>\n",
              "\t<tr><td>3.6</td><td>Loc_4</td><td> 3.0</td></tr>\n",
              "</tbody>\n",
              "</table>\n"
            ],
            "text/markdown": "\nA tibble: 24 × 3\n\n| valores &lt;dbl&gt; | Loc &lt;chr&gt; | Rango &lt;dbl&gt; |\n|---|---|---|\n| 5.7 | Loc_1 | 15.5 |\n| 6.3 | Loc_1 | 24.0 |\n| 6.1 | Loc_1 | 21.0 |\n| 6.0 | Loc_1 | 19.0 |\n| 5.8 | Loc_1 | 17.0 |\n| 6.2 | Loc_1 | 22.5 |\n| 6.2 | Loc_2 | 22.5 |\n| 5.3 | Loc_2 | 11.0 |\n| 5.7 | Loc_2 | 15.5 |\n| 6.0 | Loc_2 | 19.0 |\n| 5.2 | Loc_2 |  9.5 |\n| 5.5 | Loc_2 | 13.0 |\n| 5.4 | Loc_3 | 12.0 |\n| 5.0 | Loc_3 |  8.0 |\n| 6.0 | Loc_3 | 19.0 |\n| 5.6 | Loc_3 | 14.0 |\n| 4.0 | Loc_3 |  6.5 |\n| 5.2 | Loc_3 |  9.5 |\n| 3.7 | Loc_4 |  4.0 |\n| 3.2 | Loc_4 |  1.0 |\n| 3.9 | Loc_4 |  5.0 |\n| 4.0 | Loc_4 |  6.5 |\n| 3.5 | Loc_4 |  2.0 |\n| 3.6 | Loc_4 |  3.0 |\n\n",
            "text/latex": "A tibble: 24 × 3\n\\begin{tabular}{lll}\n valores & Loc & Rango\\\\\n <dbl> & <chr> & <dbl>\\\\\n\\hline\n\t 5.7 & Loc\\_1 & 15.5\\\\\n\t 6.3 & Loc\\_1 & 24.0\\\\\n\t 6.1 & Loc\\_1 & 21.0\\\\\n\t 6.0 & Loc\\_1 & 19.0\\\\\n\t 5.8 & Loc\\_1 & 17.0\\\\\n\t 6.2 & Loc\\_1 & 22.5\\\\\n\t 6.2 & Loc\\_2 & 22.5\\\\\n\t 5.3 & Loc\\_2 & 11.0\\\\\n\t 5.7 & Loc\\_2 & 15.5\\\\\n\t 6.0 & Loc\\_2 & 19.0\\\\\n\t 5.2 & Loc\\_2 &  9.5\\\\\n\t 5.5 & Loc\\_2 & 13.0\\\\\n\t 5.4 & Loc\\_3 & 12.0\\\\\n\t 5.0 & Loc\\_3 &  8.0\\\\\n\t 6.0 & Loc\\_3 & 19.0\\\\\n\t 5.6 & Loc\\_3 & 14.0\\\\\n\t 4.0 & Loc\\_3 &  6.5\\\\\n\t 5.2 & Loc\\_3 &  9.5\\\\\n\t 3.7 & Loc\\_4 &  4.0\\\\\n\t 3.2 & Loc\\_4 &  1.0\\\\\n\t 3.9 & Loc\\_4 &  5.0\\\\\n\t 4.0 & Loc\\_4 &  6.5\\\\\n\t 3.5 & Loc\\_4 &  2.0\\\\\n\t 3.6 & Loc\\_4 &  3.0\\\\\n\\end{tabular}\n",
            "text/plain": [
              "   valores Loc   Rango\n",
              "1  5.7     Loc_1 15.5 \n",
              "2  6.3     Loc_1 24.0 \n",
              "3  6.1     Loc_1 21.0 \n",
              "4  6.0     Loc_1 19.0 \n",
              "5  5.8     Loc_1 17.0 \n",
              "6  6.2     Loc_1 22.5 \n",
              "7  6.2     Loc_2 22.5 \n",
              "8  5.3     Loc_2 11.0 \n",
              "9  5.7     Loc_2 15.5 \n",
              "10 6.0     Loc_2 19.0 \n",
              "11 5.2     Loc_2  9.5 \n",
              "12 5.5     Loc_2 13.0 \n",
              "13 5.4     Loc_3 12.0 \n",
              "14 5.0     Loc_3  8.0 \n",
              "15 6.0     Loc_3 19.0 \n",
              "16 5.6     Loc_3 14.0 \n",
              "17 4.0     Loc_3  6.5 \n",
              "18 5.2     Loc_3  9.5 \n",
              "19 3.7     Loc_4  4.0 \n",
              "20 3.2     Loc_4  1.0 \n",
              "21 3.9     Loc_4  5.0 \n",
              "22 4.0     Loc_4  6.5 \n",
              "23 3.5     Loc_4  2.0 \n",
              "24 3.6     Loc_4  3.0 "
            ]
          },
          "metadata": {}
        }
      ]
    },
    {
      "cell_type": "code",
      "source": [
        "ggplot(df)+\n",
        "  geom_point(aes(Loc, valores, color=Loc))+\n",
        "  theme_bw()"
      ],
      "metadata": {
        "id": "9Q5_InUmGnmT",
        "outputId": "d93b194b-afdb-4379-9a5f-155b1da5a582",
        "colab": {
          "base_uri": "https://localhost:8080/",
          "height": 437
        }
      },
      "execution_count": 13,
      "outputs": [
        {
          "output_type": "display_data",
          "data": {
            "text/plain": [
              "plot without title"
            ],
            "image/png": "[encoded data removed]"
          },
          "metadata": {
            "image/png": {
              "width": 420,
              "height": 420
            }
          }
        }
      ]
    },
    {
      "cell_type": "code",
      "source": [
        "KW <- df %>% group_by(Loc) %>% summarise(n_i = n(), R_i = mean(Rango))\n",
        "# Como n=24, luego (n+1)/2=12.5\n",
        "KW<- KW %>% mutate(v_i = n_i*(R_i-12.5)^2)\n",
        "KW"
      ],
      "metadata": {
        "id": "Rtt9lY-oHM32",
        "outputId": "841e2ecd-02ad-4f24-b794-e5c0052d89c6",
        "colab": {
          "base_uri": "https://localhost:8080/",
          "height": 223
        }
      },
      "execution_count": 14,
      "outputs": [
        {
          "output_type": "display_data",
          "data": {
            "text/html": [
              "<table class=\"dataframe\">\n",
              "<caption>A tibble: 4 × 4</caption>\n",
              "<thead>\n",
              "\t<tr><th scope=col>Loc</th><th scope=col>n_i</th><th scope=col>R_i</th><th scope=col>v_i</th></tr>\n",
              "\t<tr><th scope=col>&lt;chr&gt;</th><th scope=col>&lt;int&gt;</th><th scope=col>&lt;dbl&gt;</th><th scope=col>&lt;dbl&gt;</th></tr>\n",
              "</thead>\n",
              "<tbody>\n",
              "\t<tr><td>Loc_1</td><td>6</td><td>19.833333</td><td>322.66667</td></tr>\n",
              "\t<tr><td>Loc_2</td><td>6</td><td>15.083333</td><td> 40.04167</td></tr>\n",
              "\t<tr><td>Loc_3</td><td>6</td><td>11.500000</td><td>  6.00000</td></tr>\n",
              "\t<tr><td>Loc_4</td><td>6</td><td> 3.583333</td><td>477.04167</td></tr>\n",
              "</tbody>\n",
              "</table>\n"
            ],
            "text/markdown": "\nA tibble: 4 × 4\n\n| Loc &lt;chr&gt; | n_i &lt;int&gt; | R_i &lt;dbl&gt; | v_i &lt;dbl&gt; |\n|---|---|---|---|\n| Loc_1 | 6 | 19.833333 | 322.66667 |\n| Loc_2 | 6 | 15.083333 |  40.04167 |\n| Loc_3 | 6 | 11.500000 |   6.00000 |\n| Loc_4 | 6 |  3.583333 | 477.04167 |\n\n",
            "text/latex": "A tibble: 4 × 4\n\\begin{tabular}{llll}\n Loc & n\\_i & R\\_i & v\\_i\\\\\n <chr> & <int> & <dbl> & <dbl>\\\\\n\\hline\n\t Loc\\_1 & 6 & 19.833333 & 322.66667\\\\\n\t Loc\\_2 & 6 & 15.083333 &  40.04167\\\\\n\t Loc\\_3 & 6 & 11.500000 &   6.00000\\\\\n\t Loc\\_4 & 6 &  3.583333 & 477.04167\\\\\n\\end{tabular}\n",
            "text/plain": [
              "  Loc   n_i R_i       v_i      \n",
              "1 Loc_1 6   19.833333 322.66667\n",
              "2 Loc_2 6   15.083333  40.04167\n",
              "3 Loc_3 6   11.500000   6.00000\n",
              "4 Loc_4 6    3.583333 477.04167"
            ]
          },
          "metadata": {}
        }
      ]
    },
    {
      "cell_type": "markdown",
      "source": [
        "Calculamos el valor observado de la estadística de prueba $h$"
      ],
      "metadata": {
        "id": "GmrXT6V_IfEZ"
      }
    },
    {
      "cell_type": "code",
      "source": [
        "h <- 12/(24*25)* sum(KW$v_i)\n",
        "h"
      ],
      "metadata": {
        "id": "IgLjVGM_ImaK",
        "outputId": "ad2f0cab-7adc-4833-f5d1-ba9ad7ba5039",
        "colab": {
          "base_uri": "https://localhost:8080/",
          "height": 34
        }
      },
      "execution_count": 15,
      "outputs": [
        {
          "output_type": "display_data",
          "data": {
            "text/html": [
              "16.915"
            ],
            "text/markdown": "16.915",
            "text/latex": "16.915",
            "text/plain": [
              "[1] 16.915"
            ]
          },
          "metadata": {}
        }
      ]
    },
    {
      "cell_type": "markdown",
      "source": [
        "Calculamos el valor p: $P(H\\geq 16.915|H_0)$, donde $H \\sim \\chi^2_3$"
      ],
      "metadata": {
        "id": "7JezkVLYJB-9"
      }
    },
    {
      "cell_type": "code",
      "source": [
        "valor_p <- pchisq(h, 3, lower.tail = FALSE)\n",
        "valor_p"
      ],
      "metadata": {
        "id": "tzFM8ZgAJWFz",
        "outputId": "d2cb86c9-0928-4e2a-d25e-ec74ae1b045c",
        "colab": {
          "base_uri": "https://localhost:8080/",
          "height": 34
        }
      },
      "execution_count": 16,
      "outputs": [
        {
          "output_type": "display_data",
          "data": {
            "text/html": [
              "0.000735766861271775"
            ],
            "text/markdown": "0.000735766861271775",
            "text/latex": "0.000735766861271775",
            "text/plain": [
              "[1] 0.0007357669"
            ]
          },
          "metadata": {}
        }
      ]
    },
    {
      "cell_type": "markdown",
      "source": [
        "Prácticamente a cualquier nivel de confianza usual, se puede rechazar la $H_0$. Ahora se lleva a cabo la prueba con la función `kruskal.test` que está implementada en R."
      ],
      "metadata": {
        "id": "9I_LfsZdJlat"
      }
    },
    {
      "cell_type": "code",
      "source": [
        "kruskal.test(valores ~ Loc, data = df)"
      ],
      "metadata": {
        "id": "bli6pMiULvXs",
        "outputId": "34b81fe5-1dc6-4879-826e-da48dae13c84",
        "colab": {
          "base_uri": "https://localhost:8080/",
          "height": 104
        }
      },
      "execution_count": 17,
      "outputs": [
        {
          "output_type": "display_data",
          "data": {
            "text/plain": [
              "\n",
              "\tKruskal-Wallis rank sum test\n",
              "\n",
              "data:  valores by Loc\n",
              "Kruskal-Wallis chi-squared = 16.974, df = 3, p-value = 0.0007155\n"
            ]
          },
          "metadata": {}
        }
      ]
    }
  ]
}