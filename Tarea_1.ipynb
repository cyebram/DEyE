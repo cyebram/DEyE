{
  "nbformat": 4,
  "nbformat_minor": 0,
  "metadata": {
    "colab": {
      "provenance": []
    },
    "kernelspec": {
      "name": "ir",
      "display_name": "R"
    },
    "language_info": {
      "name": "R"
    }
  },
  "cells": [
    {
      "cell_type": "markdown",
      "source": [
        "# Tarea 1. Estadística no paramétrica.\n",
        "\n",
        "Nombre:"
      ],
      "metadata": {
        "id": "-Uv1cWqCtgvE"
      }
    },
    {
      "cell_type": "code",
      "source": [
        "library(ggplot2)\n",
        "library(dplyr)"
      ],
      "metadata": {
        "id": "k8DrZlndXMdb"
      },
      "execution_count": null,
      "outputs": []
    },
    {
      "cell_type": "markdown",
      "source": [
        "## Ejercicio 1\n",
        "\n",
        "Los siguientes precios de casas en Houston, TX (en miles de dólares) fueron extraídos de zillow\\.com en agosto de 2019:\n",
        "\n",
        "$$162\\quad 165\\quad 167\\quad 188\\quad 189\\quad 194\\quad 200\\quad 233\\quad 236\\quad 247\\\\\n",
        "248\\quad 257\\quad 258\\quad 286\\quad 290\\quad 307\\quad 330\\quad 345\\quad 377\\quad 389\\\\\n",
        "459\\quad 460\\quad 513\\quad 569\\quad 1399$$\n",
        "\n",
        "Tratando estas 25 casas como una muestra aleatoria de todas las viviendas disponibles en Houston, calcule un intervalo al 90% para la verdadera mediana del precio de las casas en esa ciudad.\n"
      ],
      "metadata": {
        "id": "H_QhvYTnvnl3"
      }
    },
    {
      "cell_type": "markdown",
      "source": [
        "## Ejercicio 2\n",
        "\n",
        "Una muestra de 12 detectores de radón de cierto tipo fue seleccionada, y cada uno fue expuesto a 100 pCi/L de radón. Las lecturas resultantes fueron las siguientes:\n",
        "\n",
        "$$105.6\\quad 90.9\\quad 91.2\\quad 96.9\\quad 96.5\\quad 91.3\\\\\n",
        "100.1\\quad 105.0\\quad 99.6\\quad 107.7\\quad 103.3\\quad 92.4\n",
        "$$\n",
        "\n",
        "¿Sugieren estos datos que la media poblacional bajo estas condiciones difiere de 100? Establezca y pruebe las hipótesis apropiadas utilizando $\\alpha = 0.05$. Llevar cabo la prueba de suma de rangos con signos de Wilcoxon paso a paso y comparar los resultados con el respectivo t test.\n",
        "\n",
        "\n",
        "\n"
      ],
      "metadata": {
        "id": "xPXN_-VUWj_r"
      }
    }
  ]
}