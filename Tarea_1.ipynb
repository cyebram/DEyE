{
  "nbformat": 4,
  "nbformat_minor": 0,
  "metadata": {
    "colab": {
      "provenance": []
    },
    "kernelspec": {
      "name": "ir",
      "display_name": "R"
    },
    "language_info": {
      "name": "R"
    }
  },
  "cells": [
    {
      "cell_type": "markdown",
      "source": [
        "# Tarea 1. Estadística no paramétrica.\n",
        "\n",
        "Nombre:"
      ],
      "metadata": {
        "id": "-Uv1cWqCtgvE"
      }
    },
    {
      "cell_type": "code",
      "source": [
        "library(ggplot2)\n",
        "library(dplyr)"
      ],
      "metadata": {
        "id": "k8DrZlndXMdb"
      },
      "execution_count": 4,
      "outputs": []
    },
    {
      "cell_type": "markdown",
      "source": [
        "## Ejercicio 1\n",
        "\n",
        "Los siguientes precios de casas en Houston, TX (en miles de dólares) fueron extraídos de zillow\\.com en agosto de 2019:\n",
        "\n",
        "$$162\\quad 165\\quad 167\\quad 188\\quad 189\\quad 194\\quad 200\\quad 233\\quad 236\\quad 247\\\\\n",
        "248\\quad 257\\quad 258\\quad 286\\quad 290\\quad 307\\quad 330\\quad 345\\quad 377\\quad 389\\\\\n",
        "459\\quad 460\\quad 513\\quad 569\\quad 1399$$\n",
        "\n",
        "Tratando estas 25 casas como una muestra aleatoria de todas las viviendas disponibles en Houston, calcule un intervalo al 90% para la verdadera mediana del precio de las casas en esa ciudad.\n"
      ],
      "metadata": {
        "id": "H_QhvYTnvnl3"
      }
    },
    {
      "cell_type": "code",
      "source": [
        "datos<- c(162, 165, 167, 188, 189, 194, 200, 233, 236, 247, 248, 257, 258, 286, 290, 307, 330, 345, 377, 389, 459, 460, 513, 569, 1399)\n",
        "datos"
      ],
      "metadata": {
        "colab": {
          "base_uri": "https://localhost:8080/",
          "height": 52
        },
        "id": "QFEl1G0Vv3CY",
        "outputId": "5b45898c-556e-4eda-95b8-d9ad2b03569a"
      },
      "execution_count": 26,
      "outputs": [
        {
          "output_type": "display_data",
          "data": {
            "text/html": [
              "<style>\n",
              ".list-inline {list-style: none; margin:0; padding: 0}\n",
              ".list-inline>li {display: inline-block}\n",
              ".list-inline>li:not(:last-child)::after {content: \"\\00b7\"; padding: 0 .5ex}\n",
              "</style>\n",
              "<ol class=list-inline><li>162</li><li>165</li><li>167</li><li>188</li><li>189</li><li>194</li><li>200</li><li>233</li><li>236</li><li>247</li><li>248</li><li>257</li><li>258</li><li>286</li><li>290</li><li>307</li><li>330</li><li>345</li><li>377</li><li>389</li><li>459</li><li>460</li><li>513</li><li>569</li><li>1399</li></ol>\n"
            ],
            "text/markdown": "1. 162\n2. 165\n3. 167\n4. 188\n5. 189\n6. 194\n7. 200\n8. 233\n9. 236\n10. 247\n11. 248\n12. 257\n13. 258\n14. 286\n15. 290\n16. 307\n17. 330\n18. 345\n19. 377\n20. 389\n21. 459\n22. 460\n23. 513\n24. 569\n25. 1399\n\n\n",
            "text/latex": "\\begin{enumerate*}\n\\item 162\n\\item 165\n\\item 167\n\\item 188\n\\item 189\n\\item 194\n\\item 200\n\\item 233\n\\item 236\n\\item 247\n\\item 248\n\\item 257\n\\item 258\n\\item 286\n\\item 290\n\\item 307\n\\item 330\n\\item 345\n\\item 377\n\\item 389\n\\item 459\n\\item 460\n\\item 513\n\\item 569\n\\item 1399\n\\end{enumerate*}\n",
            "text/plain": [
              " [1]  162  165  167  188  189  194  200  233  236  247  248  257  258  286  290\n",
              "[16]  307  330  345  377  389  459  460  513  569 1399"
            ]
          },
          "metadata": {}
        }
      ]
    },
    {
      "cell_type": "code",
      "source": [
        "df<- tibble(Datos = datos, Rango = rank(datos))\n",
        "df"
      ],
      "metadata": {
        "colab": {
          "base_uri": "https://localhost:8080/",
          "height": 882
        },
        "id": "lz9HXZBXxkle",
        "outputId": "6fcd2fb0-67f3-4238-ecdb-50a10205c9de"
      },
      "execution_count": 27,
      "outputs": [
        {
          "output_type": "display_data",
          "data": {
            "text/html": [
              "<table class=\"dataframe\">\n",
              "<caption>A tibble: 25 × 2</caption>\n",
              "<thead>\n",
              "\t<tr><th scope=col>Datos</th><th scope=col>Rango</th></tr>\n",
              "\t<tr><th scope=col>&lt;dbl&gt;</th><th scope=col>&lt;dbl&gt;</th></tr>\n",
              "</thead>\n",
              "<tbody>\n",
              "\t<tr><td> 162</td><td> 1</td></tr>\n",
              "\t<tr><td> 165</td><td> 2</td></tr>\n",
              "\t<tr><td> 167</td><td> 3</td></tr>\n",
              "\t<tr><td> 188</td><td> 4</td></tr>\n",
              "\t<tr><td> 189</td><td> 5</td></tr>\n",
              "\t<tr><td> 194</td><td> 6</td></tr>\n",
              "\t<tr><td> 200</td><td> 7</td></tr>\n",
              "\t<tr><td> 233</td><td> 8</td></tr>\n",
              "\t<tr><td> 236</td><td> 9</td></tr>\n",
              "\t<tr><td> 247</td><td>10</td></tr>\n",
              "\t<tr><td> 248</td><td>11</td></tr>\n",
              "\t<tr><td> 257</td><td>12</td></tr>\n",
              "\t<tr><td> 258</td><td>13</td></tr>\n",
              "\t<tr><td> 286</td><td>14</td></tr>\n",
              "\t<tr><td> 290</td><td>15</td></tr>\n",
              "\t<tr><td> 307</td><td>16</td></tr>\n",
              "\t<tr><td> 330</td><td>17</td></tr>\n",
              "\t<tr><td> 345</td><td>18</td></tr>\n",
              "\t<tr><td> 377</td><td>19</td></tr>\n",
              "\t<tr><td> 389</td><td>20</td></tr>\n",
              "\t<tr><td> 459</td><td>21</td></tr>\n",
              "\t<tr><td> 460</td><td>22</td></tr>\n",
              "\t<tr><td> 513</td><td>23</td></tr>\n",
              "\t<tr><td> 569</td><td>24</td></tr>\n",
              "\t<tr><td>1399</td><td>25</td></tr>\n",
              "</tbody>\n",
              "</table>\n"
            ],
            "text/markdown": "\nA tibble: 25 × 2\n\n| Datos &lt;dbl&gt; | Rango &lt;dbl&gt; |\n|---|---|\n|  162 |  1 |\n|  165 |  2 |\n|  167 |  3 |\n|  188 |  4 |\n|  189 |  5 |\n|  194 |  6 |\n|  200 |  7 |\n|  233 |  8 |\n|  236 |  9 |\n|  247 | 10 |\n|  248 | 11 |\n|  257 | 12 |\n|  258 | 13 |\n|  286 | 14 |\n|  290 | 15 |\n|  307 | 16 |\n|  330 | 17 |\n|  345 | 18 |\n|  377 | 19 |\n|  389 | 20 |\n|  459 | 21 |\n|  460 | 22 |\n|  513 | 23 |\n|  569 | 24 |\n| 1399 | 25 |\n\n",
            "text/latex": "A tibble: 25 × 2\n\\begin{tabular}{ll}\n Datos & Rango\\\\\n <dbl> & <dbl>\\\\\n\\hline\n\t  162 &  1\\\\\n\t  165 &  2\\\\\n\t  167 &  3\\\\\n\t  188 &  4\\\\\n\t  189 &  5\\\\\n\t  194 &  6\\\\\n\t  200 &  7\\\\\n\t  233 &  8\\\\\n\t  236 &  9\\\\\n\t  247 & 10\\\\\n\t  248 & 11\\\\\n\t  257 & 12\\\\\n\t  258 & 13\\\\\n\t  286 & 14\\\\\n\t  290 & 15\\\\\n\t  307 & 16\\\\\n\t  330 & 17\\\\\n\t  345 & 18\\\\\n\t  377 & 19\\\\\n\t  389 & 20\\\\\n\t  459 & 21\\\\\n\t  460 & 22\\\\\n\t  513 & 23\\\\\n\t  569 & 24\\\\\n\t 1399 & 25\\\\\n\\end{tabular}\n",
            "text/plain": [
              "   Datos Rango\n",
              "1   162   1   \n",
              "2   165   2   \n",
              "3   167   3   \n",
              "4   188   4   \n",
              "5   189   5   \n",
              "6   194   6   \n",
              "7   200   7   \n",
              "8   233   8   \n",
              "9   236   9   \n",
              "10  247  10   \n",
              "11  248  11   \n",
              "12  257  12   \n",
              "13  258  13   \n",
              "14  286  14   \n",
              "15  290  15   \n",
              "16  307  16   \n",
              "17  330  17   \n",
              "18  345  18   \n",
              "19  377  19   \n",
              "20  389  20   \n",
              "21  459  21   \n",
              "22  460  22   \n",
              "23  513  23   \n",
              "24  569  24   \n",
              "25 1399  25   "
            ]
          },
          "metadata": {}
        }
      ]
    },
    {
      "cell_type": "code",
      "source": [
        "my_ic<-function(n, p, r,s){\n",
        "prob<- sum(dbinom(r:(s-1), size=n, prob=p))\n",
        "prob\n",
        "}"
      ],
      "metadata": {
        "id": "wHOSvRL3yuEx"
      },
      "execution_count": 29,
      "outputs": []
    },
    {
      "cell_type": "code",
      "source": [
        "my_ic(25, 0.5, 8, 17)"
      ],
      "metadata": {
        "colab": {
          "base_uri": "https://localhost:8080/",
          "height": 34
        },
        "id": "K9O5K7BCzdLV",
        "outputId": "6f143113-f3b6-4535-8482-19ea6cb6f5a9"
      },
      "execution_count": 36,
      "outputs": [
        {
          "output_type": "display_data",
          "data": {
            "text/html": [
              "0.924481302499771"
            ],
            "text/markdown": "0.924481302499771",
            "text/latex": "0.924481302499771",
            "text/plain": [
              "[1] 0.9244813"
            ]
          },
          "metadata": {}
        }
      ]
    },
    {
      "cell_type": "code",
      "source": [
        "datos[8]\n",
        "datos[17]"
      ],
      "metadata": {
        "colab": {
          "base_uri": "https://localhost:8080/",
          "height": 52
        },
        "id": "jOkXgMJR1Ssz",
        "outputId": "23a83fc9-5331-4a35-f79c-11359df7601f"
      },
      "execution_count": 37,
      "outputs": [
        {
          "output_type": "display_data",
          "data": {
            "text/html": [
              "233"
            ],
            "text/markdown": "233",
            "text/latex": "233",
            "text/plain": [
              "[1] 233"
            ]
          },
          "metadata": {}
        },
        {
          "output_type": "display_data",
          "data": {
            "text/html": [
              "330"
            ],
            "text/markdown": "330",
            "text/latex": "330",
            "text/plain": [
              "[1] 330"
            ]
          },
          "metadata": {}
        }
      ]
    },
    {
      "cell_type": "code",
      "source": [
        "mean(datos)"
      ],
      "metadata": {
        "colab": {
          "base_uri": "https://localhost:8080/",
          "height": 34
        },
        "id": "1o1CsbKJ1YwR",
        "outputId": "dc9f1cde-588f-4125-b208-4281696af1e9"
      },
      "execution_count": 39,
      "outputs": [
        {
          "output_type": "display_data",
          "data": {
            "text/html": [
              "338.72"
            ],
            "text/markdown": "338.72",
            "text/latex": "338.72",
            "text/plain": [
              "[1] 338.72"
            ]
          },
          "metadata": {}
        }
      ]
    },
    {
      "cell_type": "markdown",
      "source": [
        "## Ejercicio 2\n",
        "\n",
        "Una muestra de 12 detectores de radón de cierto tipo fue seleccionada, y cada uno fue expuesto a 100 pCi/L de radón. Las lecturas resultantes fueron las siguientes:\n",
        "\n",
        "$$105.6\\quad 90.9\\quad 91.2\\quad 96.9\\quad 96.5\\quad 91.3\\\\\n",
        "100.1\\quad 105.0\\quad 99.6\\quad 107.7\\quad 103.3\\quad 92.4\n",
        "$$\n",
        "\n",
        "¿Sugieren estos datos que la media poblacional bajo estas condiciones difiere de 100? Establezca y pruebe las hipótesis apropiadas utilizando $\\alpha = 0.05$. Llevar cabo la prueba de suma de rangos con signos de Wilcoxon paso a paso y comparar los resultados con el respectivo t test.\n",
        "\n",
        "\n",
        "\n"
      ],
      "metadata": {
        "id": "xPXN_-VUWj_r"
      }
    }
  ]
}