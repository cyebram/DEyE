{
  "nbformat": 4,
  "nbformat_minor": 0,
  "metadata": {
    "colab": {
      "provenance": []
    },
    "kernelspec": {
      "name": "ir",
      "display_name": "R"
    },
    "language_info": {
      "name": "R"
    }
  },
  "cells": [
    {
      "cell_type": "markdown",
      "source": [
        "# Tarea 1. Estadística no paramétrica.\n",
        "\n",
        "Nombre:"
      ],
      "metadata": {
        "id": "-Uv1cWqCtgvE"
      }
    },
    {
      "cell_type": "code",
      "source": [
        "library(ggplot2)\n",
        "library(dplyr)"
      ],
      "metadata": {
        "id": "k8DrZlndXMdb",
        "outputId": "bd1ec8fb-53aa-4a83-8bfb-e4e127b8c16f",
        "colab": {
          "base_uri": "https://localhost:8080/"
        }
      },
      "execution_count": 2,
      "outputs": [
        {
          "output_type": "stream",
          "name": "stderr",
          "text": [
            "\n",
            "Attaching package: ‘dplyr’\n",
            "\n",
            "\n",
            "The following objects are masked from ‘package:stats’:\n",
            "\n",
            "    filter, lag\n",
            "\n",
            "\n",
            "The following objects are masked from ‘package:base’:\n",
            "\n",
            "    intersect, setdiff, setequal, union\n",
            "\n",
            "\n"
          ]
        }
      ]
    },
    {
      "cell_type": "markdown",
      "source": [
        "## Ejercicio 1\n",
        "\n",
        "Los siguientes precios de casas en Houston, TX (en miles de dólares) fueron extraídos de zillow\\.com en agosto de 2019:\n",
        "\n",
        "$$162\\quad 165\\quad 167\\quad 188\\quad 189\\quad 194\\quad 200\\quad 233\\quad 236\\quad 247\\\\\n",
        "248\\quad 257\\quad 258\\quad 286\\quad 290\\quad 307\\quad 330\\quad 345\\quad 377\\quad 389\\\\\n",
        "459\\quad 460\\quad 513\\quad 569\\quad 1399$$\n",
        "\n",
        "Tratando estas 25 casas como una muestra aleatoria de todas las viviendas disponibles en Houston, calcula un intervalo al 90% para la verdadera mediana del precio de las casas en esa ciudad. Aplicar la prueba de los signos para probar la hipótesis que la verdadera mediana excede los $197,000.\n"
      ],
      "metadata": {
        "id": "H_QhvYTnvnl3"
      }
    },
    {
      "cell_type": "markdown",
      "source": [
        "## Ejercicio 2\n",
        "\n",
        "Los siguientes datos sobre la fuerza de agarre (en N) para 42 individuos fueron leídos de un gráfico en el artículo \"Investigation of Grip Force, Normal Force, Contact Area, Hand Size, and Handle Size for Cylindrical Handles\" (Human Factors 2008: 734--744):\n",
        "\n",
        "$$\n",
        "16\\quad 18\\quad 20\\quad 26\\quad 33\\quad 41\\quad 54\\quad 56\\quad 66\\\\\n",
        "68\\quad 87\\quad 91\\quad 95\\quad 98\\quad 106\\quad 109\\quad 111\\quad 118\\\\\n",
        "127\\quad 131\\quad 135\\quad 145\\quad 147\\quad 149\\quad 151\\quad 168\\quad 172\\\\\n",
        "183\\quad 189\\quad 190\\quad 200\\quad 210\\quad 220\\quad 229\\quad 230\\\\\n",
        "233\\quad 238\\quad 244\\quad 259\\quad 294\\quad 329\\quad 403\n",
        "$$\n",
        "\n",
        "**a)** ¿Qué sugieren estos datos sobre la distribución poblacional de la fuerza de agarre? ¿Por qué podría ser la mediana una medida más apropiada de la fuerza de agarre \"típica\" que la media?\n",
        "\n",
        "**b)** Prueba la hipótesis de que la mediana poblacional de la fuerza de agarre es menor que 170 N utilizando la prueba de los signos.\n"
      ],
      "metadata": {
        "id": "P2OFJLqyqx9l"
      }
    },
    {
      "cell_type": "markdown",
      "source": [
        "## Ejercicio 3\n",
        "\n",
        "Considera los siguientes datos sobre el gasto energético en reposo (REE, en calorías por día) para ocho sujetos tanto con una dieta de ayuno intermitente como con una dieta estándar (\"El ayuno intermitente no afecta la glucosa, los lípidos ni el metabolismo proteico corporal total\", *Amer. J. of Clinical Nutr.* 2009: 1244--1251):"
      ],
      "metadata": {
        "id": "o7kIrqtauuOB"
      }
    },
    {
      "cell_type": "code",
      "source": [
        "REE_ayuno<- c(1753.7, 1604.4, 1576.5, 1279.7, 1754.2,  1695.5, 1700.1, 1717.0)\n",
        "REE_estandar<- c(1755.0, 1691.1, 1697.1, 1477.7, 1785.2, 1669.7, 1901.3, 1735.3)\n",
        "df<- tibble(Ayuno = REE_ayuno, Estandar = REE_estandar)\n",
        "df"
      ],
      "metadata": {
        "id": "FIzfETx-vbWV",
        "outputId": "8e2e82f7-3fe8-4c0a-c215-4a752fba1a3b",
        "colab": {
          "base_uri": "https://localhost:8080/",
          "height": 349
        }
      },
      "execution_count": 3,
      "outputs": [
        {
          "output_type": "display_data",
          "data": {
            "text/html": [
              "<table class=\"dataframe\">\n",
              "<caption>A tibble: 8 × 2</caption>\n",
              "<thead>\n",
              "\t<tr><th scope=col>Ayuno</th><th scope=col>Estandar</th></tr>\n",
              "\t<tr><th scope=col>&lt;dbl&gt;</th><th scope=col>&lt;dbl&gt;</th></tr>\n",
              "</thead>\n",
              "<tbody>\n",
              "\t<tr><td>1753.7</td><td>1755.0</td></tr>\n",
              "\t<tr><td>1604.4</td><td>1691.1</td></tr>\n",
              "\t<tr><td>1576.5</td><td>1697.1</td></tr>\n",
              "\t<tr><td>1279.7</td><td>1477.7</td></tr>\n",
              "\t<tr><td>1754.2</td><td>1785.2</td></tr>\n",
              "\t<tr><td>1695.5</td><td>1669.7</td></tr>\n",
              "\t<tr><td>1700.1</td><td>1901.3</td></tr>\n",
              "\t<tr><td>1717.0</td><td>1735.3</td></tr>\n",
              "</tbody>\n",
              "</table>\n"
            ],
            "text/markdown": "\nA tibble: 8 × 2\n\n| Ayuno &lt;dbl&gt; | Estandar &lt;dbl&gt; |\n|---|---|\n| 1753.7 | 1755.0 |\n| 1604.4 | 1691.1 |\n| 1576.5 | 1697.1 |\n| 1279.7 | 1477.7 |\n| 1754.2 | 1785.2 |\n| 1695.5 | 1669.7 |\n| 1700.1 | 1901.3 |\n| 1717.0 | 1735.3 |\n\n",
            "text/latex": "A tibble: 8 × 2\n\\begin{tabular}{ll}\n Ayuno & Estandar\\\\\n <dbl> & <dbl>\\\\\n\\hline\n\t 1753.7 & 1755.0\\\\\n\t 1604.4 & 1691.1\\\\\n\t 1576.5 & 1697.1\\\\\n\t 1279.7 & 1477.7\\\\\n\t 1754.2 & 1785.2\\\\\n\t 1695.5 & 1669.7\\\\\n\t 1700.1 & 1901.3\\\\\n\t 1717.0 & 1735.3\\\\\n\\end{tabular}\n",
            "text/plain": [
              "  Ayuno  Estandar\n",
              "1 1753.7 1755.0  \n",
              "2 1604.4 1691.1  \n",
              "3 1576.5 1697.1  \n",
              "4 1279.7 1477.7  \n",
              "5 1754.2 1785.2  \n",
              "6 1695.5 1669.7  \n",
              "7 1700.1 1901.3  \n",
              "8 1717.0 1735.3  "
            ]
          },
          "metadata": {}
        }
      ]
    },
    {
      "cell_type": "markdown",
      "source": [
        "Sea $\\tilde{\\mu}_D$ la verdadera mediana de la diferencia en REE (dieta de ayuno menos dieta estándar). Pruebe las hipótesis:\n",
        "\n",
        "$$\n",
        "H_0\\!: \\tilde{\\mu}_D = 0 \\quad \\quad \\quad H_a\\!: \\tilde{\\mu}_D < 0\n",
        "$$\n",
        "\n",
        "utilizando la prueba de los signos."
      ],
      "metadata": {
        "id": "twx3T6KLww6Q"
      }
    },
    {
      "cell_type": "markdown",
      "source": [
        "## Ejercicio 4\n",
        "\n",
        "Un productor de cereales para desayuno desea verificar si una máquina llenadora está funcionando correctamente. Se supone que la máquina debe llenar cajas de una libra con un promedio de 460 g. Esto es ligeramente superior a los 453.6 g requeridos para una libra exacta.\n",
        "\n",
        "Cuando se pesan las cajas llenadas, se encuentra que 15 cajas presentan las siguientes mediciones:\n",
        "\n",
        "454.4,\t470.8,\t447.5,\t453.2,\t462.6,\t445.0,\t455.9,\t458.2,\n",
        "461.6,\t457.3,\t452.0,\t464.3,\t459.2,\t453.5,\t465.8\n",
        "\n",
        "¿Proporcionan estos datos evidencia estadística convincente de que el peso medio real difiere de 460 g?"
      ],
      "metadata": {
        "id": "R6kKLIKRtfod"
      }
    },
    {
      "cell_type": "markdown",
      "source": [
        "## Ejercicio 5\n",
        "\n",
        "Una muestra de 12 detectores de radón de cierto tipo fue seleccionada, y cada uno fue expuesto a 100 pCi/L de radón. Las lecturas resultantes fueron las siguientes:\n",
        "\n",
        "$$105.6\\quad 90.9\\quad 91.2\\quad 96.9\\quad 96.5\\quad 91.3\\\\\n",
        "100.1\\quad 105.0\\quad 99.6\\quad 107.7\\quad 103.3\\quad 92.4\n",
        "$$\n",
        "\n",
        "¿Sugieren estos datos que la media poblacional bajo estas condiciones difiere de 100? Establezca y pruebe las hipótesis apropiadas utilizando $\\alpha = 0.05$. Llevar cabo la prueba de suma de rangos con signos de Wilcoxon paso a paso y comparar los resultados con el respectivo t test.\n",
        "\n",
        "\n",
        "\n"
      ],
      "metadata": {
        "id": "xPXN_-VUWj_r"
      }
    },
    {
      "cell_type": "markdown",
      "source": [
        "## Ejercicio 6\n",
        "\n",
        "Las siguientes mediciones de pH en un sitio propuesto de captación de agua aparecen en el informe de 2011 \"Sacramento River Water Quality Assessment for the Davis-Woodland Water Supply Project\":\n",
        "\n",
        "$$\n",
        "7.20\\quad 7.24\\quad 7.31\\quad 7.38\\quad 7.45\\quad 7.60\\quad 7.86\n",
        "$$\n",
        "\n",
        "Use la prueba de Wilcoxon de rangos con signo para determinar si el verdadero nivel medio de pH en este sitio excede 7.3 con un nivel de significancia de 0.05."
      ],
      "metadata": {
        "id": "0a4fROSNyXTy"
      }
    },
    {
      "cell_type": "markdown",
      "source": [
        "## Ejercicio 7\n",
        "\n",
        "Se seleccionó una muestra aleatoria de 15 mecánicos automotrices certificados para trabajar en cierto tipo de vehículo, y se determinó el tiempo (en minutos) necesario para que cada uno diagnosticara un problema particular, resultando en los siguientes datos:\n",
        "\n",
        "$$\n",
        "30.6\\quad 30.1\\quad 15.6\\quad 26.7\\quad 27.1\\quad 25.4\\quad 35.0\\quad 30.8\\\\\n",
        "31.9\\quad 53.2\\quad 12.5\\quad 23.2\\quad 8.8\\quad 24.9\\quad 30.2\n",
        "$$\n",
        "\n",
        "Use la prueba de Wilcoxon con un nivel de significancia de 0.10 para decidir si los datos sugieren que el tiempo medio verdadero de diagnóstico es menor que 30 minutos."
      ],
      "metadata": {
        "id": "LcrdKqMTyfvn"
      }
    },
    {
      "cell_type": "markdown",
      "source": [
        "## Ejercicio 8\n",
        "\n",
        "Tanto un método gravimétrico como un método espectrofotométrico están bajo consideración para determinar el contenido de fosfato de un material en particular. Se obtienen doce muestras del material, cada una se divide por la mitad, y se realiza una determinación en cada mitad usando uno de los dos métodos, resultando en los siguientes datos:\n"
      ],
      "metadata": {
        "id": "FHya8ZGg0WIk"
      }
    },
    {
      "cell_type": "code",
      "source": [
        "Grav_data <- c(54.7, 58.5, 66.8, 46.1, 52.3, 74.3, 92.5, 40.2, 87.3, 74.8, 63.2, 68.5)\n",
        "Spec_data <- c(55.0, 55.7, 62.9, 45.5, 51.1, 75.4, 89.6, 38.4, 86.8, 72.5, 62.3, 66.0)\n",
        "df<- tibble(Grav = Grav_data, Spec_data)\n",
        "df"
      ],
      "metadata": {
        "id": "cfYIWgt80cYi",
        "outputId": "8f76cf8a-a545-48ab-c7ba-a1bd2a371832",
        "colab": {
          "base_uri": "https://localhost:8080/",
          "height": 474
        }
      },
      "execution_count": 5,
      "outputs": [
        {
          "output_type": "display_data",
          "data": {
            "text/html": [
              "<table class=\"dataframe\">\n",
              "<caption>A tibble: 12 × 2</caption>\n",
              "<thead>\n",
              "\t<tr><th scope=col>Grav</th><th scope=col>Spec_data</th></tr>\n",
              "\t<tr><th scope=col>&lt;dbl&gt;</th><th scope=col>&lt;dbl&gt;</th></tr>\n",
              "</thead>\n",
              "<tbody>\n",
              "\t<tr><td>54.7</td><td>55.0</td></tr>\n",
              "\t<tr><td>58.5</td><td>55.7</td></tr>\n",
              "\t<tr><td>66.8</td><td>62.9</td></tr>\n",
              "\t<tr><td>46.1</td><td>45.5</td></tr>\n",
              "\t<tr><td>52.3</td><td>51.1</td></tr>\n",
              "\t<tr><td>74.3</td><td>75.4</td></tr>\n",
              "\t<tr><td>92.5</td><td>89.6</td></tr>\n",
              "\t<tr><td>40.2</td><td>38.4</td></tr>\n",
              "\t<tr><td>87.3</td><td>86.8</td></tr>\n",
              "\t<tr><td>74.8</td><td>72.5</td></tr>\n",
              "\t<tr><td>63.2</td><td>62.3</td></tr>\n",
              "\t<tr><td>68.5</td><td>66.0</td></tr>\n",
              "</tbody>\n",
              "</table>\n"
            ],
            "text/markdown": "\nA tibble: 12 × 2\n\n| Grav &lt;dbl&gt; | Spec_data &lt;dbl&gt; |\n|---|---|\n| 54.7 | 55.0 |\n| 58.5 | 55.7 |\n| 66.8 | 62.9 |\n| 46.1 | 45.5 |\n| 52.3 | 51.1 |\n| 74.3 | 75.4 |\n| 92.5 | 89.6 |\n| 40.2 | 38.4 |\n| 87.3 | 86.8 |\n| 74.8 | 72.5 |\n| 63.2 | 62.3 |\n| 68.5 | 66.0 |\n\n",
            "text/latex": "A tibble: 12 × 2\n\\begin{tabular}{ll}\n Grav & Spec\\_data\\\\\n <dbl> & <dbl>\\\\\n\\hline\n\t 54.7 & 55.0\\\\\n\t 58.5 & 55.7\\\\\n\t 66.8 & 62.9\\\\\n\t 46.1 & 45.5\\\\\n\t 52.3 & 51.1\\\\\n\t 74.3 & 75.4\\\\\n\t 92.5 & 89.6\\\\\n\t 40.2 & 38.4\\\\\n\t 87.3 & 86.8\\\\\n\t 74.8 & 72.5\\\\\n\t 63.2 & 62.3\\\\\n\t 68.5 & 66.0\\\\\n\\end{tabular}\n",
            "text/plain": [
              "   Grav Spec_data\n",
              "1  54.7 55.0     \n",
              "2  58.5 55.7     \n",
              "3  66.8 62.9     \n",
              "4  46.1 45.5     \n",
              "5  52.3 51.1     \n",
              "6  74.3 75.4     \n",
              "7  92.5 89.6     \n",
              "8  40.2 38.4     \n",
              "9  87.3 86.8     \n",
              "10 74.8 72.5     \n",
              "11 63.2 62.3     \n",
              "12 68.5 66.0     "
            ]
          },
          "metadata": {}
        }
      ]
    },
    {
      "cell_type": "markdown",
      "source": [
        "Use la prueba de Wilcoxon de rangos con signo para comparar ambos métodos y determine si existe una diferencia significativa en las mediciones."
      ],
      "metadata": {
        "id": "SQfPyG-Q1PgJ"
      }
    },
    {
      "cell_type": "markdown",
      "source": [
        "## Ejercicio 9\n",
        "\n",
        "Reconsidera los datos de quema de calorías del Ejercicio 3.\n",
        "\n",
        "a. Utiliza el procedimiento de Wilcoxon de rangos con signo para probar:\n",
        "\n",
        "$$\n",
        "H_0\\!: \\mu_D = 0 \\quad \\text{versus} \\quad H_a\\!: \\mu_D < 0\n",
        "$$\n",
        "\n",
        "para la población de diferencias de REE (dieta de ayuno intermitente menos dieta estándar). ¿Qué suposición se requiere aquí que no era necesaria para la prueba de los signos?\n",
        "\n",
        "b. Aplica ahora la prueba t pareada a las hipótesis del inciso (a). ¿Qué suposiciones adicionales se requieren?\n",
        "\n",
        "c. Compara los resultados de las tres pruebas (signos, rangos con signo, y t pareada).\n"
      ],
      "metadata": {
        "id": "S9QZysAX1wH2"
      }
    },
    {
      "cell_type": "markdown",
      "source": [
        "## Ejercicio 10\n",
        "\n",
        "La siguiente tabla muestra las calificaciones de un grupo de 15 estudiantes en matemáticas y artes."
      ],
      "metadata": {
        "id": "1v-X2ze83EOz"
      }
    },
    {
      "cell_type": "code",
      "source": [
        "Math_data <- c(22, 37, 36, 38, 42, 58, 58, 60, 62, 65, 66, 56, 66, 67, 62)\n",
        "Artes_data <- c(53, 68, 42, 49, 51, 65, 51, 71, 55, 74, 68, 64, 67, 73, 65)\n",
        "df <- tibble(Matematicas = Math_data, Artes= Artes_data)\n",
        "df"
      ],
      "metadata": {
        "id": "ErhB6yBe3Ood",
        "outputId": "de294c68-b0af-4274-b5de-e6b3ee79b6a0",
        "colab": {
          "base_uri": "https://localhost:8080/",
          "height": 568
        }
      },
      "execution_count": 6,
      "outputs": [
        {
          "output_type": "display_data",
          "data": {
            "text/html": [
              "<table class=\"dataframe\">\n",
              "<caption>A tibble: 15 × 2</caption>\n",
              "<thead>\n",
              "\t<tr><th scope=col>Matematicas</th><th scope=col>Artes</th></tr>\n",
              "\t<tr><th scope=col>&lt;dbl&gt;</th><th scope=col>&lt;dbl&gt;</th></tr>\n",
              "</thead>\n",
              "<tbody>\n",
              "\t<tr><td>22</td><td>53</td></tr>\n",
              "\t<tr><td>37</td><td>68</td></tr>\n",
              "\t<tr><td>36</td><td>42</td></tr>\n",
              "\t<tr><td>38</td><td>49</td></tr>\n",
              "\t<tr><td>42</td><td>51</td></tr>\n",
              "\t<tr><td>58</td><td>65</td></tr>\n",
              "\t<tr><td>58</td><td>51</td></tr>\n",
              "\t<tr><td>60</td><td>71</td></tr>\n",
              "\t<tr><td>62</td><td>55</td></tr>\n",
              "\t<tr><td>65</td><td>74</td></tr>\n",
              "\t<tr><td>66</td><td>68</td></tr>\n",
              "\t<tr><td>56</td><td>64</td></tr>\n",
              "\t<tr><td>66</td><td>67</td></tr>\n",
              "\t<tr><td>67</td><td>73</td></tr>\n",
              "\t<tr><td>62</td><td>65</td></tr>\n",
              "</tbody>\n",
              "</table>\n"
            ],
            "text/markdown": "\nA tibble: 15 × 2\n\n| Matematicas &lt;dbl&gt; | Artes &lt;dbl&gt; |\n|---|---|\n| 22 | 53 |\n| 37 | 68 |\n| 36 | 42 |\n| 38 | 49 |\n| 42 | 51 |\n| 58 | 65 |\n| 58 | 51 |\n| 60 | 71 |\n| 62 | 55 |\n| 65 | 74 |\n| 66 | 68 |\n| 56 | 64 |\n| 66 | 67 |\n| 67 | 73 |\n| 62 | 65 |\n\n",
            "text/latex": "A tibble: 15 × 2\n\\begin{tabular}{ll}\n Matematicas & Artes\\\\\n <dbl> & <dbl>\\\\\n\\hline\n\t 22 & 53\\\\\n\t 37 & 68\\\\\n\t 36 & 42\\\\\n\t 38 & 49\\\\\n\t 42 & 51\\\\\n\t 58 & 65\\\\\n\t 58 & 51\\\\\n\t 60 & 71\\\\\n\t 62 & 55\\\\\n\t 65 & 74\\\\\n\t 66 & 68\\\\\n\t 56 & 64\\\\\n\t 66 & 67\\\\\n\t 67 & 73\\\\\n\t 62 & 65\\\\\n\\end{tabular}\n",
            "text/plain": [
              "   Matematicas Artes\n",
              "1  22          53   \n",
              "2  37          68   \n",
              "3  36          42   \n",
              "4  38          49   \n",
              "5  42          51   \n",
              "6  58          65   \n",
              "7  58          51   \n",
              "8  60          71   \n",
              "9  62          55   \n",
              "10 65          74   \n",
              "11 66          68   \n",
              "12 56          64   \n",
              "13 66          67   \n",
              "14 67          73   \n",
              "15 62          65   "
            ]
          },
          "metadata": {}
        }
      ]
    },
    {
      "cell_type": "markdown",
      "source": [
        "a. Usa la prueba de rangos con signo de Wilcoxon para determinar si las localizaciones de las distribuciones de calificaciones para estos estudiantes difieren de manera importante para las dos materias. Establecer límites para el valor p e indica la conclusión apropiada cuando $\\alpha = 0.05$\n",
        "\n",
        "b. Expresa las hipótesis nula y alternativa para la prueba que se realizó en el inciso a."
      ],
      "metadata": {
        "id": "rAb3e0nb4FfV"
      }
    }
  ]
}